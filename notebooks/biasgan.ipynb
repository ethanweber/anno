{
 "cells": [
  {
   "cell_type": "code",
   "execution_count": 1,
   "id": "b44377de-8276-483d-8264-99d3f19e4b1b",
   "metadata": {},
   "outputs": [
    {
     "name": "stdout",
     "output_type": "stream",
     "text": [
      "The autoreload extension is already loaded. To reload it, use:\n",
      "  %reload_ext autoreload\n"
     ]
    }
   ],
   "source": [
    "from imports import *"
   ]
  },
  {
   "cell_type": "code",
   "execution_count": 2,
   "id": "b89b81e2-fb9c-4e9d-9c99-7317aa68b992",
   "metadata": {},
   "outputs": [],
   "source": [
    "from hit_makers.biasgan_hit_maker import BiasganHitMakerRace\n",
    "from hit_makers.biasgan_hit_maker import task_to_class"
   ]
  },
  {
   "cell_type": "code",
   "execution_count": 25,
   "id": "6d3cc36e-c061-42f6-a57a-8f35d5e42fa7",
   "metadata": {},
   "outputs": [
    {
     "name": "stdout",
     "output_type": "stream",
     "text": [
      "biasgan/mturk_data/Task3_Quality_Ranking\n"
     ]
    }
   ],
   "source": [
    "directory = \"biasgan/mturk_data\"\n",
    "task1 = \"Task1_Race_Classification\"\n",
    "task2 = \"Task2_Real_Fake_Classification\"\n",
    "task3 = \"Task3_Quality_Ranking\"\n",
    "\n",
    "task = task3\n",
    "# NOTE(ethan): task 3 data folder seems incorrect right now\n",
    "maker = task_to_class[task]()\n",
    "\n",
    "task_folder = goat.pjoin(directory, task)\n",
    "print(task_folder)\n",
    "\n",
    "# from hit_makers.biasgan_hit_maker import get_processed_data_from_task_folder\n",
    "pdata = maker.get_processed_data_from_media_folder(task_folder)\n",
    "# pprint.pprint(pdata)"
   ]
  },
  {
   "cell_type": "code",
   "execution_count": 26,
   "id": "cb03ddb2-c0e6-41c2-9e57-e701909d1692",
   "metadata": {},
   "outputs": [],
   "source": [
    "# hit"
   ]
  },
  {
   "cell_type": "code",
   "execution_count": 27,
   "id": "a82b773a-e707-4532-9268-f831835cd348",
   "metadata": {},
   "outputs": [],
   "source": [
    "# now, break the save a bunch of hits (e.g., 40)...\n",
    "# 100 images per HIT\n",
    "# chunk with goat\n",
    "size_of_chunk = 100\n",
    "\n",
    "query_folder_to_query_examples = pdata[\"query_folder_to_query_examples\"]\n",
    "for query_folder in query_folder_to_query_examples:\n",
    "    query_examples = query_folder_to_query_examples[query_folder]\n",
    "    random.shuffle(query_examples)\n",
    "    query_examples_chunks = goat.utils.get_chunks(query_examples, size_of_chunk=size_of_chunk)\n",
    "    for hit_idx, qes in enumerate(query_examples_chunks):\n",
    "        examples = pdata[\"examples\"]\n",
    "        gt_query_examples = random.sample(pdata[\"gt_query_examples\"], k=10)\n",
    "        hit = maker.get_hit(task=task, \n",
    "                            task_question=pdata[\"task_question\"], \n",
    "                            examples=examples, \n",
    "                            gt_query_examples=gt_query_examples, \n",
    "                            query_examples=qes)\n",
    "        hit_name = \"{}-{}-{:06d}\".format(task, query_folder, hit_idx)\n",
    "#         print(hit_name)\n",
    "        maker.save(hit_name, hit)"
   ]
  },
  {
   "cell_type": "code",
   "execution_count": 46,
   "id": "f9e329eb-63a2-4021-84fb-1e4ec5bc7268",
   "metadata": {},
   "outputs": [],
   "source": [
    "# \"/shared/ethanweber/anno/static/data/hits\"\n",
    "interface_endpoint = \"https://biasgan.ethanweber.me/interface\"\n",
    "hit_names = os.listdir(\"/shared/ethanweber/anno/static/data/hits/\")\n",
    "external_urls = []\n",
    "for hit_name in sorted(hit_names):\n",
    "    external_urls.append(os.path.join(interface_endpoint, hit_name.replace(\".json\", \"\")))\n",
    "# external_urls"
   ]
  },
  {
   "cell_type": "code",
   "execution_count": 59,
   "id": "9024b7a5-3831-41ed-93b3-a1c95b6f8964",
   "metadata": {},
   "outputs": [
    {
     "name": "stdout",
     "output_type": "stream",
     "text": [
      "0.75\n",
      "315.0\n"
     ]
    }
   ],
   "source": [
    "dolors_per_hour = 9\n",
    "minutes_per_hit = 5\n",
    "cost_per_hit = (minutes_per_hit / 60) * 9\n",
    "num_hits = 100\n",
    "mturk_tax = 1.4\n",
    "num_assignments_per_hit = 3\n",
    "cost = cost_per_hit * num_hits * num_assignments_per_hit * mturk_tax\n",
    "print(cost_per_hit)\n",
    "print(cost)"
   ]
  },
  {
   "cell_type": "code",
   "execution_count": 52,
   "id": "90d5b5cc-422d-45ba-bcfc-54d0acad9a86",
   "metadata": {},
   "outputs": [],
   "source": [
    "# 100 * 5.4"
   ]
  },
  {
   "cell_type": "code",
   "execution_count": 53,
   "id": "64ca31a6-4f52-4cd1-9b2f-8b4660db2fb0",
   "metadata": {},
   "outputs": [],
   "source": [
    "# hit_names"
   ]
  },
  {
   "cell_type": "code",
   "execution_count": null,
   "id": "720575c4-7275-4969-a4c8-417293dd75f0",
   "metadata": {},
   "outputs": [],
   "source": []
  },
  {
   "cell_type": "code",
   "execution_count": 54,
   "id": "74080414-0156-445e-bc2b-eb392b8e284c",
   "metadata": {},
   "outputs": [],
   "source": [
    "# examples = [example] * 10\n",
    "# hit = maker.get_hit(examples, examples, examples)\n",
    "# pprint.pprint(hit)\n",
    "# hit_name = \"hit_example\"\n",
    "# maker.save(hit_name, hit)"
   ]
  },
  {
   "cell_type": "code",
   "execution_count": null,
   "id": "8459d3f4-a94c-427e-9266-18ea1d6b8a0e",
   "metadata": {},
   "outputs": [],
   "source": []
  },
  {
   "cell_type": "code",
   "execution_count": null,
   "id": "027720d8-dcef-40ce-9153-c9d9ff5078b4",
   "metadata": {},
   "outputs": [],
   "source": []
  },
  {
   "cell_type": "code",
   "execution_count": 43,
   "id": "06f39afb-e688-4cbd-8c8d-08828fb69e19",
   "metadata": {},
   "outputs": [],
   "source": [
    "from requester import Requester"
   ]
  },
  {
   "cell_type": "code",
   "execution_count": 63,
   "id": "4d5e5a0b-c8d5-4785-b5ff-e85d4316845a",
   "metadata": {},
   "outputs": [
    {
     "name": "stdout",
     "output_type": "stream",
     "text": [
      "No database found. Initializing it to:\n",
      "{'production': {}, 'sandbox': {}}\n",
      "87.10\n"
     ]
    }
   ],
   "source": [
    "use_sandbox=False\n",
    "DATABASE_FILENAME = \"/shared/ethanweber/anno/mturk_database.pkl\"\n",
    "CREDS_FILENAME = \"/shared/ethanweber/anno/mturk_creds.json\"\n",
    "\n",
    "requester = Requester(use_sandbox=use_sandbox,\n",
    "                      database_filename=DATABASE_FILENAME,\n",
    "                      creds_filename=CREDS_FILENAME)\n",
    "requester.show_account_balance()"
   ]
  },
  {
   "cell_type": "code",
   "execution_count": 64,
   "id": "b99cbab0-b5a9-421a-868a-9f0008c51a01",
   "metadata": {},
   "outputs": [],
   "source": [
    "lifetime_hours = 1\n",
    "per_hit_minutes = 15\n",
    "cost_per_hit = '0.5'\n",
    "days_until_autoapprove = 2\n",
    "estimated_time_in_minutes = 5\n",
    "task_attributes = {\n",
    "    # Number of assignments per task.\n",
    "    'MaxAssignments': 3,\n",
    "    # How long the task will be available on MTurk\n",
    "    'LifetimeInSeconds': 60 * 60 * lifetime_hours,\n",
    "    # How long Workers have to complete each item\n",
    "    'AssignmentDurationInSeconds': 60 * per_hit_minutes,\n",
    "    # The reward you will offer Workers for each response\n",
    "    'Reward': cost_per_hit,\n",
    "    'Title': 'Identify the race of the person(s) in the image. (~{} min)'.format(estimated_time_in_minutes),\n",
    "    'Keywords': 'image, choice, computer vison, selection',\n",
    "    'Description': 'Identify the race of the person(s) in the image.',\n",
    "    'AutoApprovalDelayInSeconds': days_until_autoapprove * (60*60*24)\n",
    "}\n",
    "requester.set_task_attributes(task_attributes)"
   ]
  },
  {
   "cell_type": "code",
   "execution_count": 66,
   "id": "0376af17-f185-4914-8aa6-c00e5f4f9000",
   "metadata": {},
   "outputs": [
    {
     "data": {
      "text/plain": [
       "[{'QualificationTypeId': '2F1QJWKUDD8XADTFD2Q0G6UTO95ALH',\n",
       "  'Comparator': 'Exists'}]"
      ]
     },
     "execution_count": 66,
     "metadata": {},
     "output_type": "execute_result"
    }
   ],
   "source": [
    "requester.get_worker_requirements()"
   ]
  },
  {
   "cell_type": "code",
   "execution_count": 70,
   "id": "75a62b5a-0691-406a-8359-7d91620514ff",
   "metadata": {},
   "outputs": [],
   "source": [
    "task1_external_urls = [\"https://biasgan.ethanweber.me/interface/Task1_Race_Classification-black20_white80-000000\"]\n"
   ]
  },
  {
   "cell_type": "code",
   "execution_count": 71,
   "id": "94246cff-8c5d-4369-8c1f-4c0c0d945586",
   "metadata": {},
   "outputs": [],
   "source": [
    "# https://biasgan.ethanweber.me/interface/Task1_Race_Classification-black20_white80-000000\n",
    "# https://biasgan.ethanweber.me/interface/Task2_Real_Fake_Classification-black20_white80-000000\n",
    "# https://biasgan.ethanweber.me/interface/Task3_Quality_Ranking-black20_white80-000000"
   ]
  },
  {
   "cell_type": "code",
   "execution_count": 73,
   "id": "f24a8d42-46b3-4647-aefb-bc766337a664",
   "metadata": {
    "tags": []
   },
   "outputs": [
    {
     "name": "stderr",
     "output_type": "stream",
     "text": [
      "100%|██████████| 1/1 [00:00<00:00,  1.09it/s]\n"
     ]
    }
   ],
   "source": [
    "hit_ids = requester.submit_hits_from_external_urls(task1_external_urls)"
   ]
  },
  {
   "cell_type": "code",
   "execution_count": 74,
   "id": "ee3f3ddb-792e-4c34-b081-60a762e9d0b3",
   "metadata": {},
   "outputs": [
    {
     "data": {
      "text/plain": [
       "['3E22YV8GG10M66IRAKTYNDAKBAHPN5']"
      ]
     },
     "execution_count": 74,
     "metadata": {},
     "output_type": "execute_result"
    }
   ],
   "source": [
    "hit_ids"
   ]
  },
  {
   "cell_type": "code",
   "execution_count": null,
   "id": "d9530ba0-150e-404d-9710-78274f6e2e57",
   "metadata": {},
   "outputs": [],
   "source": []
  },
  {
   "cell_type": "code",
   "execution_count": 76,
   "id": "fe81a36f-889e-4afe-96ea-7dd38a60701e",
   "metadata": {},
   "outputs": [],
   "source": [
    "hit_ids = [v[\"hit_id\"] for v in requester.database[\"production\"].values()]"
   ]
  },
  {
   "cell_type": "code",
   "execution_count": 78,
   "id": "c598000d-679d-48cb-81af-c1ef75d7f18b",
   "metadata": {},
   "outputs": [
    {
     "data": {
      "text/plain": [
       "['3E22YV8GG10M66IRAKTYNDAKBAHPN5']"
      ]
     },
     "execution_count": 78,
     "metadata": {},
     "output_type": "execute_result"
    }
   ],
   "source": [
    "hit_ids"
   ]
  },
  {
   "cell_type": "code",
   "execution_count": 80,
   "id": "78d04225-a7ea-44c7-a373-4ccc8e88ce5f",
   "metadata": {},
   "outputs": [
    {
     "data": {
      "text/plain": [
       "['3E22YV8GG10M66IRAKTYNDAKBAHPN5']"
      ]
     },
     "execution_count": 80,
     "metadata": {},
     "output_type": "execute_result"
    }
   ],
   "source": [
    "sorted(requester.database[\"production\"].keys())"
   ]
  },
  {
   "cell_type": "code",
   "execution_count": 75,
   "id": "41071121-ddcd-4930-872f-435009b4f1b5",
   "metadata": {},
   "outputs": [
    {
     "name": "stdout",
     "output_type": "stream",
     "text": [
      "https://www.mturk.com/mturk/preview?groupId=3QA1H4GB4RMS7Q0NUEN7IBA9B623M8\n"
     ]
    }
   ],
   "source": [
    "for hit_id in hit_ids:\n",
    "    print(requester.get_url_to_view_hit(hit_id))"
   ]
  },
  {
   "cell_type": "code",
   "execution_count": 83,
   "id": "0428f351-2712-4c98-9cc2-3e5e22e8d958",
   "metadata": {},
   "outputs": [
    {
     "name": "stderr",
     "output_type": "stream",
     "text": [
      "100%|██████████| 1/1 [00:00<00:00,  3.20it/s]"
     ]
    },
    {
     "name": "stdout",
     "output_type": "stream",
     "text": [
      "No results.\n"
     ]
    },
    {
     "name": "stderr",
     "output_type": "stream",
     "text": [
      "\n"
     ]
    }
   ],
   "source": [
    "requester.update_database_with_responses()\n"
   ]
  },
  {
   "cell_type": "code",
   "execution_count": 84,
   "id": "ca9c8c6f-a5b9-4d5a-866b-fc8885c4690c",
   "metadata": {},
   "outputs": [],
   "source": [
    "# responses = requester.get_responses_from_database()\n",
    "# requester.save_all_responses_to_files(responses)"
   ]
  },
  {
   "cell_type": "code",
   "execution_count": 88,
   "id": "9b06b902-3fd9-4348-9654-6cd967e6fe24",
   "metadata": {},
   "outputs": [
    {
     "name": "stdout",
     "output_type": "stream",
     "text": [
      "{'NumResults': 0, 'Assignments': [], 'ResponseMetadata': {'RequestId': '0adadf5f-fb47-473c-a9fd-7c3736883923', 'HTTPStatusCode': 200, 'HTTPHeaders': {'x-amzn-requestid': '0adadf5f-fb47-473c-a9fd-7c3736883923', 'content-type': 'application/x-amz-json-1.1', 'content-length': '33', 'date': 'Mon, 28 Feb 2022 04:59:47 GMT'}, 'RetryAttempts': 0}}\n",
      "\n"
     ]
    }
   ],
   "source": [
    "for hit_id in hit_ids:\n",
    "    assignments_list = requester.client.list_assignments_for_hit(\n",
    "                    HITId=hit_id,\n",
    "                    MaxResults=100\n",
    "                )\n",
    "    print(assignments_list)\n",
    "    print()"
   ]
  },
  {
   "cell_type": "code",
   "execution_count": 313,
   "id": "a10c37a9-e3ef-4ef5-9da0-69ce8215b82c",
   "metadata": {},
   "outputs": [],
   "source": [
    "# for hit_id in hit_ids:\n",
    "#     print(requester.client.get_hit(HITId=hit_id))"
   ]
  },
  {
   "cell_type": "code",
   "execution_count": 86,
   "id": "49e78b1d-5f10-4b15-803a-95ee46691df0",
   "metadata": {},
   "outputs": [],
   "source": [
    "# requester.get_mean_time_from_resonses(responses)"
   ]
  },
  {
   "cell_type": "code",
   "execution_count": 244,
   "id": "49541da7-417d-4663-90be-cd7799841b77",
   "metadata": {},
   "outputs": [],
   "source": [
    "# stop hits\n",
    "import datetime\n",
    "for hit_id in hit_ids:\n",
    "#     print('HITId:', hit_id)\n",
    "    # Get HIT status\n",
    "    status = requester.client.get_hit(HITId=hit_id)['HIT']['HITStatus']\n",
    "    print('HITStatus:', status)\n",
    "    # If HIT is active then set it to expire immediately\n",
    "    if status=='Assignable':\n",
    "        response = requester.client.update_expiration_for_hit(\n",
    "            HITId=hit_id,\n",
    "            ExpireAt=datetime.datetime(2015, 1, 1)\n",
    "        )\n",
    "        print(hit_id)"
   ]
  },
  {
   "cell_type": "code",
   "execution_count": null,
   "id": "79c2fbf5-1e1d-4430-9753-bac5bb2d4679",
   "metadata": {},
   "outputs": [],
   "source": []
  }
 ],
 "metadata": {
  "interpreter": {
   "hash": "222f01b76026723deb90f6521b6c50a7801729930bc95e5d89f12540abde614b"
  },
  "kernelspec": {
   "display_name": "Python 3",
   "language": "python",
   "name": "python3"
  },
  "language_info": {
   "codemirror_mode": {
    "name": "ipython",
    "version": 3
   },
   "file_extension": ".py",
   "mimetype": "text/x-python",
   "name": "python",
   "nbconvert_exporter": "python",
   "pygments_lexer": "ipython3",
   "version": "3.6.13"
  }
 },
 "nbformat": 4,
 "nbformat_minor": 5
}
