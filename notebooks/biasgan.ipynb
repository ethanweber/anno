{
 "cells": [
  {
   "cell_type": "code",
   "execution_count": 55,
   "id": "b44377de-8276-483d-8264-99d3f19e4b1b",
   "metadata": {},
   "outputs": [],
   "source": [
    "from imports import *"
   ]
  },
  {
   "cell_type": "code",
   "execution_count": 2,
   "id": "b89b81e2-fb9c-4e9d-9c99-7317aa68b992",
   "metadata": {},
   "outputs": [],
   "source": [
    "from hit_makers.biasgan_hit_maker import BiasganHitMakerRace\n",
    "from hit_makers.biasgan_hit_maker import task_to_class"
   ]
  },
  {
   "cell_type": "code",
   "execution_count": 3,
   "id": "adaf614b-6f80-4435-b5fa-e5e058b03ba7",
   "metadata": {},
   "outputs": [],
   "source": [
    "task_to_size_of_chunk = {\n",
    "    \"Task1_Race_Classification\": 120,\n",
    "    \"Task2_Real_Fake_Classification\": 145,\n",
    "    \"Task3_Quality_Ranking\": 100,\n",
    "}"
   ]
  },
  {
   "cell_type": "code",
   "execution_count": 16,
   "id": "6d3cc36e-c061-42f6-a57a-8f35d5e42fa7",
   "metadata": {},
   "outputs": [
    {
     "name": "stdout",
     "output_type": "stream",
     "text": [
      "biasgan/mturk_data/Task3_Quality_Ranking\n"
     ]
    }
   ],
   "source": [
    "directory = \"biasgan/mturk_data\"\n",
    "task1 = \"Task1_Race_Classification\"\n",
    "task2 = \"Task2_Real_Fake_Classification\"\n",
    "task3 = \"Task3_Quality_Ranking\"\n",
    "\n",
    "task = task3\n",
    "# NOTE(ethan): task 3 data folder seems incorrect right now\n",
    "maker = task_to_class[task]()\n",
    "\n",
    "task_folder = goat.pjoin(directory, task)\n",
    "print(task_folder)\n",
    "\n",
    "# from hit_makers.biasgan_hit_maker import get_processed_data_from_task_folder\n",
    "pdata = maker.get_processed_data_from_media_folder(task_folder)\n",
    "# pprint.pprint(pdata)"
   ]
  },
  {
   "cell_type": "code",
   "execution_count": 17,
   "id": "54373654-206a-4783-8711-22973e2eaaa0",
   "metadata": {},
   "outputs": [
    {
     "data": {
      "text/plain": [
       "dict_keys(['task', 'task_question', 'examples', 'gt_query_examples', 'query_folder_to_query_examples', 'query_folder_query_folder_to_query_examples'])"
      ]
     },
     "execution_count": 17,
     "metadata": {},
     "output_type": "execute_result"
    }
   ],
   "source": [
    "pdata.keys()"
   ]
  },
  {
   "cell_type": "code",
   "execution_count": 18,
   "id": "cb03ddb2-c0e6-41c2-9e57-e701909d1692",
   "metadata": {},
   "outputs": [],
   "source": [
    "# pdata[\"query_folder_to_query_examples\"]"
   ]
  },
  {
   "cell_type": "code",
   "execution_count": 19,
   "id": "ba356c39-3811-41e5-b193-5334bacba7f6",
   "metadata": {},
   "outputs": [],
   "source": [
    "# pdata[\"gt_query_examples\"]"
   ]
  },
  {
   "cell_type": "code",
   "execution_count": null,
   "id": "e92dadc4-539c-4043-a446-4d752242e5f3",
   "metadata": {},
   "outputs": [],
   "source": []
  },
  {
   "cell_type": "code",
   "execution_count": 22,
   "id": "a82b773a-e707-4532-9268-f831835cd348",
   "metadata": {},
   "outputs": [
    {
     "name": "stdout",
     "output_type": "stream",
     "text": [
      "100\n"
     ]
    }
   ],
   "source": [
    "# now, break the save a bunch of hits (e.g., 40)...\n",
    "# 100 images per HIT\n",
    "# chunk with goat\n",
    "# size_of_chunk = 100\n",
    "size_of_chunk = task_to_size_of_chunk[task]\n",
    "print(size_of_chunk)\n",
    "\n",
    "query_folder_to_query_examples = pdata[\"query_folder_to_query_examples\"]\n",
    "for query_folder in query_folder_to_query_examples:\n",
    "    query_examples = query_folder_to_query_examples[query_folder]\n",
    "    random.shuffle(query_examples)\n",
    "    query_examples_chunks = goat.utils.get_chunks(query_examples, size_of_chunk=size_of_chunk)\n",
    "    for hit_idx, qes in enumerate(query_examples_chunks):\n",
    "        examples = pdata[\"examples\"]\n",
    "        gt_query_examples = random.sample(pdata[\"gt_query_examples\"], k=10)\n",
    "        hit = maker.get_hit(task=task, \n",
    "                            task_question=pdata[\"task_question\"], \n",
    "                            examples=examples, \n",
    "                            gt_query_examples=gt_query_examples, \n",
    "                            query_examples=qes)\n",
    "        hit_name = \"{}-{}-{:06d}\".format(task, query_folder, hit_idx)\n",
    "#         print(hit_name)\n",
    "        maker.save(hit_name, hit)\n",
    "    \n",
    "if \"query_folder_query_folder_to_query_examples\" in pdata: # for inter splits\n",
    "    query_folder_query_folder_to_query_examples = pdata[\"query_folder_query_folder_to_query_examples\"]\n",
    "    for query_folder_query_folder in query_folder_query_folder_to_query_examples:\n",
    "        query_examples = query_folder_query_folder_to_query_examples[query_folder_query_folder]\n",
    "        random.shuffle(query_examples)\n",
    "        query_examples_chunks = goat.utils.get_chunks(query_examples, size_of_chunk=size_of_chunk)\n",
    "        for hit_idx, qes in enumerate(query_examples_chunks):\n",
    "            examples = pdata[\"examples\"]\n",
    "            gt_query_examples = random.sample(pdata[\"gt_query_examples\"], k=10)\n",
    "            hit = maker.get_hit(task=task, \n",
    "                                task_question=pdata[\"task_question\"], \n",
    "                                examples=examples, \n",
    "                                gt_query_examples=gt_query_examples, \n",
    "                                query_examples=qes)\n",
    "            hit_name = \"{}-{}-{:06d}\".format(task, query_folder_query_folder, hit_idx)\n",
    "    #         print(hit_name)\n",
    "            maker.save(hit_name, hit)"
   ]
  },
  {
   "cell_type": "code",
   "execution_count": 23,
   "id": "ef1aa565-eba6-4a30-915a-daea06a122c3",
   "metadata": {},
   "outputs": [
    {
     "data": {
      "text/plain": [
       "dict_keys(['task', 'task_question', 'examples', 'gt_query_examples', 'query_folder_to_query_examples', 'query_folder_query_folder_to_query_examples'])"
      ]
     },
     "execution_count": 23,
     "metadata": {},
     "output_type": "execute_result"
    }
   ],
   "source": [
    "pdata.keys()"
   ]
  },
  {
   "cell_type": "code",
   "execution_count": 24,
   "id": "f9e329eb-63a2-4021-84fb-1e4ec5bc7268",
   "metadata": {},
   "outputs": [],
   "source": [
    "# \"/shared/ethanweber/anno/static/data/hits\"\n",
    "interface_endpoint = \"https://biasgan.ethanweber.me/interface\"\n",
    "hit_names = os.listdir(\"/shared/ethanweber/anno/static/data/hits/\")\n",
    "external_urls = []\n",
    "for hit_name in sorted(hit_names):\n",
    "    external_urls.append(os.path.join(interface_endpoint, hit_name.replace(\".json\", \"\")))\n",
    "# external_urls"
   ]
  },
  {
   "cell_type": "code",
   "execution_count": 25,
   "id": "2c0f768b-3e38-4513-83eb-59f522597849",
   "metadata": {},
   "outputs": [
    {
     "data": {
      "text/plain": [
       "474"
      ]
     },
     "execution_count": 25,
     "metadata": {},
     "output_type": "execute_result"
    }
   ],
   "source": [
    "len(external_urls)\n",
    "# external_urls"
   ]
  },
  {
   "cell_type": "code",
   "execution_count": 34,
   "id": "c162951c-0741-4614-9034-b1eebfd589ca",
   "metadata": {},
   "outputs": [],
   "source": [
    "external_urls = set(external_urls) - set(temp)"
   ]
  },
  {
   "cell_type": "code",
   "execution_count": 37,
   "id": "c4f4e61e-262b-47d3-813b-51490de01b38",
   "metadata": {},
   "outputs": [
    {
     "data": {
      "text/plain": [
       "474"
      ]
     },
     "execution_count": 37,
     "metadata": {},
     "output_type": "execute_result"
    }
   ],
   "source": [
    "len(external_urls) + len(temp)"
   ]
  },
  {
   "cell_type": "code",
   "execution_count": 39,
   "id": "9085050e-e878-4597-a316-f5b20fe4aa01",
   "metadata": {},
   "outputs": [],
   "source": [
    "# len(external_urls)"
   ]
  },
  {
   "cell_type": "code",
   "execution_count": 44,
   "id": "1bba315d-effc-4e82-9f48-0a552d1fd4d3",
   "metadata": {},
   "outputs": [],
   "source": [
    "# sorted(external_urls)"
   ]
  },
  {
   "cell_type": "code",
   "execution_count": null,
   "id": "35d9633f-01c1-473d-8ea1-e72108c4b751",
   "metadata": {},
   "outputs": [],
   "source": []
  },
  {
   "cell_type": "code",
   "execution_count": 42,
   "id": "33a1efd2-d877-490c-a308-91834d13d44c",
   "metadata": {},
   "outputs": [],
   "source": [
    "# GLOBAL_REAL_TEST_TIME"
   ]
  },
  {
   "cell_type": "code",
   "execution_count": 43,
   "id": "9024b7a5-3831-41ed-93b3-a1c95b6f8964",
   "metadata": {},
   "outputs": [
    {
     "name": "stdout",
     "output_type": "stream",
     "text": [
      "0.75\n",
      "633.15\n"
     ]
    }
   ],
   "source": [
    "dolors_per_hour = 9\n",
    "minutes_per_hit = 5\n",
    "cost_per_hit = (minutes_per_hit / 60) * dolors_per_hour\n",
    "num_hits = len(external_urls)\n",
    "mturk_tax = 1.4\n",
    "num_assignments_per_hit = 3\n",
    "cost = cost_per_hit * num_hits * num_assignments_per_hit * mturk_tax\n",
    "print(cost_per_hit)\n",
    "print(cost)"
   ]
  },
  {
   "cell_type": "code",
   "execution_count": 288,
   "id": "90d5b5cc-422d-45ba-bcfc-54d0acad9a86",
   "metadata": {},
   "outputs": [],
   "source": [
    "# 100 * 5.4"
   ]
  },
  {
   "cell_type": "code",
   "execution_count": 289,
   "id": "64ca31a6-4f52-4cd1-9b2f-8b4660db2fb0",
   "metadata": {},
   "outputs": [],
   "source": [
    "# hit_names"
   ]
  },
  {
   "cell_type": "code",
   "execution_count": null,
   "id": "720575c4-7275-4969-a4c8-417293dd75f0",
   "metadata": {},
   "outputs": [],
   "source": []
  },
  {
   "cell_type": "code",
   "execution_count": 54,
   "id": "74080414-0156-445e-bc2b-eb392b8e284c",
   "metadata": {},
   "outputs": [],
   "source": [
    "# examples = [example] * 10\n",
    "# hit = maker.get_hit(examples, examples, examples)\n",
    "# pprint.pprint(hit)\n",
    "# hit_name = \"hit_example\"\n",
    "# maker.save(hit_name, hit)"
   ]
  },
  {
   "cell_type": "code",
   "execution_count": 51,
   "id": "8459d3f4-a94c-427e-9266-18ea1d6b8a0e",
   "metadata": {},
   "outputs": [],
   "source": [
    "# external_urls"
   ]
  },
  {
   "cell_type": "code",
   "execution_count": null,
   "id": "027720d8-dcef-40ce-9153-c9d9ff5078b4",
   "metadata": {},
   "outputs": [],
   "source": []
  },
  {
   "cell_type": "code",
   "execution_count": 29,
   "id": "06f39afb-e688-4cbd-8c8d-08828fb69e19",
   "metadata": {},
   "outputs": [],
   "source": [
    "from requester import Requester"
   ]
  },
  {
   "cell_type": "code",
   "execution_count": 49,
   "id": "4d5e5a0b-c8d5-4785-b5ff-e85d4316845a",
   "metadata": {},
   "outputs": [
    {
     "name": "stdout",
     "output_type": "stream",
     "text": [
      "233.41\n"
     ]
    }
   ],
   "source": [
    "use_sandbox=False\n",
    "DATABASE_FILENAME = \"/shared/ethanweber/anno/mturk_database.pkl\"\n",
    "CREDS_FILENAME = \"/shared/ethanweber/anno/mturk_creds.json\"\n",
    "\n",
    "requester = Requester(use_sandbox=use_sandbox,\n",
    "                      database_filename=DATABASE_FILENAME,\n",
    "                      creds_filename=CREDS_FILENAME)\n",
    "requester.show_account_balance()"
   ]
  },
  {
   "cell_type": "code",
   "execution_count": null,
   "id": "f859271f-3dfb-423d-97b1-393515b846ed",
   "metadata": {},
   "outputs": [],
   "source": [
    "1570.09"
   ]
  },
  {
   "cell_type": "code",
   "execution_count": 337,
   "id": "7b898ff3-954d-4524-9642-fa31cdf8e2e8",
   "metadata": {},
   "outputs": [
    {
     "data": {
      "text/plain": [
       "769.8599999999999"
      ]
     },
     "execution_count": 337,
     "metadata": {},
     "output_type": "execute_result"
    }
   ],
   "source": [
    "1570.09 - 800.23"
   ]
  },
  {
   "cell_type": "code",
   "execution_count": 48,
   "id": "b99cbab0-b5a9-421a-868a-9f0008c51a01",
   "metadata": {},
   "outputs": [],
   "source": [
    "lifetime_hours = 12\n",
    "per_hit_minutes = 15\n",
    "cost_per_hit = '0.75'\n",
    "days_until_autoapprove = 2\n",
    "estimated_time_in_minutes = 5\n",
    "task_attributes = {\n",
    "    # Number of assignments per task.\n",
    "    'MaxAssignments': 3,\n",
    "    # How long the task will be available on MTurk\n",
    "    'LifetimeInSeconds': 60 * 60 * lifetime_hours,\n",
    "    # How long Workers have to complete each item\n",
    "    'AssignmentDurationInSeconds': 60 * per_hit_minutes,\n",
    "    # The reward you will offer Workers for each response\n",
    "    'Reward': cost_per_hit,\n",
    "    'Title': 'Identify the race of person(s) or quality in the image. (~{} min)'.format(estimated_time_in_minutes),\n",
    "    'Keywords': 'image, choice, computer vison, selection',\n",
    "    'Description': 'Identify the race of person(s) or quality in the image.',\n",
    "    'AutoApprovalDelayInSeconds': days_until_autoapprove * (60*60*24)\n",
    "}\n",
    "requester.set_task_attributes(task_attributes)"
   ]
  },
  {
   "cell_type": "code",
   "execution_count": 46,
   "id": "0376af17-f185-4914-8aa6-c00e5f4f9000",
   "metadata": {},
   "outputs": [
    {
     "data": {
      "text/plain": [
       "[{'QualificationTypeId': '2F1QJWKUDD8XADTFD2Q0G6UTO95ALH',\n",
       "  'Comparator': 'Exists'}]"
      ]
     },
     "execution_count": 46,
     "metadata": {},
     "output_type": "execute_result"
    }
   ],
   "source": [
    "requester.get_worker_requirements()"
   ]
  },
  {
   "cell_type": "code",
   "execution_count": 302,
   "id": "75a62b5a-0691-406a-8359-7d91620514ff",
   "metadata": {},
   "outputs": [],
   "source": [
    "# task1_external_urls = [\"https://biasgan.ethanweber.me/interface/Task1_Race_Classification-black20_white80-000000\"]\n"
   ]
  },
  {
   "cell_type": "code",
   "execution_count": 162,
   "id": "94246cff-8c5d-4369-8c1f-4c0c0d945586",
   "metadata": {},
   "outputs": [],
   "source": [
    "# https://biasgan.ethanweber.me/interface/Task1_Race_Classification-black20_white80-000000\n",
    "# https://biasgan.ethanweber.me/interface/Task2_Real_Fake_Classification-black20_white80-000000\n",
    "# https://biasgan.ethanweber.me/interface/Task3_Quality_Ranking-black20_white80-000000"
   ]
  },
  {
   "cell_type": "code",
   "execution_count": 163,
   "id": "fe9f7ef5-c0d0-4860-b626-fa0337f98522",
   "metadata": {},
   "outputs": [],
   "source": [
    "# let's run the first 10 of each"
   ]
  },
  {
   "cell_type": "code",
   "execution_count": null,
   "id": "424588b5-919c-411b-935b-9e1e63ffca06",
   "metadata": {},
   "outputs": [],
   "source": []
  },
  {
   "cell_type": "code",
   "execution_count": 303,
   "id": "c69aa7bc-49d0-41a8-8983-cb716a71c420",
   "metadata": {},
   "outputs": [],
   "source": [
    "# urls = []\n",
    "# for external_url in external_urls:\n",
    "#     if \"000000\" in external_url and external_url.find(\"black20_white80\") < 0:\n",
    "#         urls.append(external_url)"
   ]
  },
  {
   "cell_type": "code",
   "execution_count": 165,
   "id": "60d90a16-204f-45fa-ae07-494d8c0cba6e",
   "metadata": {},
   "outputs": [
    {
     "data": {
      "text/plain": [
       "['https://biasgan.ethanweber.me/interface/Task1_Race_Classification-black50_white50-000000',\n",
       " 'https://biasgan.ethanweber.me/interface/Task1_Race_Classification-black80_white20-000000',\n",
       " 'https://biasgan.ethanweber.me/interface/Task1_Race_Classification-fface_val_data-000000',\n",
       " 'https://biasgan.ethanweber.me/interface/Task2_Real_Fake_Classification-black50_white50-000000',\n",
       " 'https://biasgan.ethanweber.me/interface/Task2_Real_Fake_Classification-black80_white20-000000',\n",
       " 'https://biasgan.ethanweber.me/interface/Task3_Quality_Ranking-black50_white50-000000',\n",
       " 'https://biasgan.ethanweber.me/interface/Task3_Quality_Ranking-black80_white20-000000']"
      ]
     },
     "execution_count": 165,
     "metadata": {},
     "output_type": "execute_result"
    }
   ],
   "source": [
    "urls"
   ]
  },
  {
   "cell_type": "code",
   "execution_count": 166,
   "id": "3923a72b-bfe1-415e-b47a-7b3ea4973b7e",
   "metadata": {},
   "outputs": [],
   "source": [
    "# external_urls"
   ]
  },
  {
   "cell_type": "code",
   "execution_count": 338,
   "id": "f03f3b78-489c-4a52-94c6-83a4f8f865bd",
   "metadata": {},
   "outputs": [],
   "source": [
    "# external_urls"
   ]
  },
  {
   "cell_type": "code",
   "execution_count": 305,
   "id": "f24a8d42-46b3-4647-aefb-bc766337a664",
   "metadata": {
    "tags": []
   },
   "outputs": [
    {
     "name": "stderr",
     "output_type": "stream",
     "text": [
      "100%|██████████| 273/273 [01:54<00:00,  2.39it/s]\n"
     ]
    }
   ],
   "source": [
    "# TODO(ethan): add a catch to be careful not to resubmit the same HIT...\n",
    "hit_ids = requester.submit_hits_from_external_urls(external_urls)"
   ]
  },
  {
   "cell_type": "code",
   "execution_count": 47,
   "id": "8b173f45-1f02-425a-9f53-47fa301c4f72",
   "metadata": {},
   "outputs": [
    {
     "name": "stderr",
     "output_type": "stream",
     "text": [
      "100%|██████████| 201/201 [02:48<00:00,  1.19it/s]\n"
     ]
    }
   ],
   "source": [
    "hit_ids = requester.submit_hits_from_external_urls(external_urls)"
   ]
  },
  {
   "cell_type": "code",
   "execution_count": 307,
   "id": "a166dbd4-3de9-4e66-8360-c08f90ebec96",
   "metadata": {},
   "outputs": [
    {
     "data": {
      "text/plain": [
       "273"
      ]
     },
     "execution_count": 307,
     "metadata": {},
     "output_type": "execute_result"
    }
   ],
   "source": [
    "len(hit_ids)"
   ]
  },
  {
   "cell_type": "code",
   "execution_count": 31,
   "id": "9a772ff0-e83d-4db0-bd24-2433b78704d5",
   "metadata": {},
   "outputs": [],
   "source": [
    "temp = []\n",
    "for hit_id in list(requester.database[\"production\"].keys()):\n",
    "    temp.append(requester.database[\"production\"][hit_id][\"external_url\"])"
   ]
  },
  {
   "cell_type": "code",
   "execution_count": 33,
   "id": "8e49dcd1-e654-4182-9180-5d738fde7e85",
   "metadata": {},
   "outputs": [
    {
     "data": {
      "text/plain": [
       "273"
      ]
     },
     "execution_count": 33,
     "metadata": {},
     "output_type": "execute_result"
    }
   ],
   "source": [
    "len(temp)"
   ]
  },
  {
   "cell_type": "code",
   "execution_count": 28,
   "id": "0b866a31-c78a-484a-a09d-13438f9ff9a6",
   "metadata": {},
   "outputs": [
    {
     "data": {
      "text/plain": [
       "[]"
      ]
     },
     "execution_count": 28,
     "metadata": {},
     "output_type": "execute_result"
    }
   ],
   "source": [
    "temp"
   ]
  },
  {
   "cell_type": "code",
   "execution_count": 313,
   "id": "f4a6be0d-8c8f-474c-9849-0d293dac3b59",
   "metadata": {},
   "outputs": [],
   "source": [
    "# requester.write_database()"
   ]
  },
  {
   "cell_type": "code",
   "execution_count": null,
   "id": "4f5e9ac6-9be6-4a58-9f5e-daff0cd7e73f",
   "metadata": {},
   "outputs": [],
   "source": []
  },
  {
   "cell_type": "code",
   "execution_count": 100,
   "id": "ee3f3ddb-792e-4c34-b081-60a762e9d0b3",
   "metadata": {},
   "outputs": [
    {
     "data": {
      "text/plain": [
       "['3PUV2Q8SV4YBG0Q42LXUWOT1G20DBQ']"
      ]
     },
     "execution_count": 100,
     "metadata": {},
     "output_type": "execute_result"
    }
   ],
   "source": [
    "hit_ids"
   ]
  },
  {
   "cell_type": "code",
   "execution_count": null,
   "id": "d9530ba0-150e-404d-9710-78274f6e2e57",
   "metadata": {},
   "outputs": [],
   "source": []
  },
  {
   "cell_type": "code",
   "execution_count": 204,
   "id": "fe81a36f-889e-4afe-96ea-7dd38a60701e",
   "metadata": {},
   "outputs": [],
   "source": [
    "hit_ids = [v[\"hit_id\"] for v in requester.database[\"production\"].values()]"
   ]
  },
  {
   "cell_type": "code",
   "execution_count": 205,
   "id": "c598000d-679d-48cb-81af-c1ef75d7f18b",
   "metadata": {},
   "outputs": [
    {
     "data": {
      "text/plain": [
       "['3E22YV8GG10M66IRAKTYNDAKBAHPN5',\n",
       " '3PUV2Q8SV4YBG0Q42LXUWOT1G20DBQ',\n",
       " '33P2GD6NRNMTLJZ0UUTDMCRPVO3KHR',\n",
       " '3G3AJKPCXLMUTC0MJ2AL1VXWOYQ4YK',\n",
       " '3D1UCPY6GG3UWAQ06K78SDHOHJR83P',\n",
       " '3B9J25CZ2570SU1SDBOE27LJZQBCSR',\n",
       " '3TD33TP5DLWDITNSIB6S6NLVVZ4ABM',\n",
       " '32TMVRKDGNSFE6946YCR2I9UVJN84A',\n",
       " '3KWGG5KP6JWXUZONTESSQYMD71TMCP',\n",
       " '3QREJ3J433RV7FIQLF8BE4KWC5CKLY']"
      ]
     },
     "execution_count": 205,
     "metadata": {},
     "output_type": "execute_result"
    }
   ],
   "source": [
    "hit_ids"
   ]
  },
  {
   "cell_type": "code",
   "execution_count": 103,
   "id": "78d04225-a7ea-44c7-a373-4ccc8e88ce5f",
   "metadata": {
    "tags": []
   },
   "outputs": [
    {
     "data": {
      "text/plain": [
       "['3E22YV8GG10M66IRAKTYNDAKBAHPN5', '3PUV2Q8SV4YBG0Q42LXUWOT1G20DBQ']"
      ]
     },
     "execution_count": 103,
     "metadata": {},
     "output_type": "execute_result"
    }
   ],
   "source": [
    "sorted(requester.database[\"production\"].keys())"
   ]
  },
  {
   "cell_type": "code",
   "execution_count": 179,
   "id": "41071121-ddcd-4930-872f-435009b4f1b5",
   "metadata": {
    "tags": []
   },
   "outputs": [
    {
     "name": "stdout",
     "output_type": "stream",
     "text": [
      "https://www.mturk.com/mturk/preview?groupId=3QA1H4GB4RMS7Q0NUEN7IBA9B623M8\n",
      "https://www.mturk.com/mturk/preview?groupId=3QA1H4GB4RMS7Q0NUEN7IBA9B623M8\n",
      "https://www.mturk.com/mturk/preview?groupId=3QA1H4GB4RMS7Q0NUEN7IBA9B623M8\n",
      "https://www.mturk.com/mturk/preview?groupId=3QA1H4GB4RMS7Q0NUEN7IBA9B623M8\n",
      "https://www.mturk.com/mturk/preview?groupId=3QA1H4GB4RMS7Q0NUEN7IBA9B623M8\n",
      "https://www.mturk.com/mturk/preview?groupId=3QA1H4GB4RMS7Q0NUEN7IBA9B623M8\n",
      "https://www.mturk.com/mturk/preview?groupId=3QA1H4GB4RMS7Q0NUEN7IBA9B623M8\n"
     ]
    }
   ],
   "source": [
    "for hit_id in hit_ids:\n",
    "    print(requester.get_url_to_view_hit(hit_id))"
   ]
  },
  {
   "cell_type": "code",
   "execution_count": 219,
   "id": "0428f351-2712-4c98-9cc2-3e5e22e8d958",
   "metadata": {},
   "outputs": [],
   "source": [
    "# requester.update_database_with_responses()"
   ]
  },
  {
   "cell_type": "code",
   "execution_count": 207,
   "id": "9e7e3348-6fd6-4547-9ed0-e0201c9ffad1",
   "metadata": {},
   "outputs": [],
   "source": [
    "# for hit_id, v in requester.database[\"production\"].items():\n",
    "#     print(v)"
   ]
  },
  {
   "cell_type": "code",
   "execution_count": 60,
   "id": "e9ba8dab-c4f2-4ac8-8281-fd644428e11c",
   "metadata": {},
   "outputs": [],
   "source": [
    "urls = []\n",
    "for ending in sorted(os.listdir(\"/shared/ethanweber/anno/static/data/responses/\")):\n",
    "    e = ending.replace(\".json\", \"\")\n",
    "    urls.append(f\"https://biasgan.ethanweber.me/responses/{e}\")\n",
    "urls = sorted(urls)\n",
    "# urls\n",
    "goat.write_to_json(\"responses_urls.json\", urls)"
   ]
  },
  {
   "cell_type": "code",
   "execution_count": 70,
   "id": "3d455cb0-249b-4481-90ec-808d18b2a9ce",
   "metadata": {},
   "outputs": [],
   "source": [
    "# urls"
   ]
  },
  {
   "cell_type": "code",
   "execution_count": 61,
   "id": "7ecf871f-d96f-4331-a884-d473fe09f22b",
   "metadata": {},
   "outputs": [
    {
     "data": {
      "text/plain": [
       "1422"
      ]
     },
     "execution_count": 61,
     "metadata": {},
     "output_type": "execute_result"
    }
   ],
   "source": [
    "len(urls)"
   ]
  },
  {
   "cell_type": "code",
   "execution_count": 208,
   "id": "e5743bc2-53da-4518-8243-b48b60a0435b",
   "metadata": {},
   "outputs": [],
   "source": [
    "# responses"
   ]
  },
  {
   "cell_type": "code",
   "execution_count": 56,
   "id": "bade0e43-2b05-4434-b5a2-2c38f9b90b59",
   "metadata": {},
   "outputs": [
    {
     "name": "stderr",
     "output_type": "stream",
     "text": [
      "100%|██████████| 474/474 [01:16<00:00,  6.18it/s]\n"
     ]
    }
   ],
   "source": [
    "requester.update_database_with_responses()"
   ]
  },
  {
   "cell_type": "code",
   "execution_count": 53,
   "id": "ca9c8c6f-a5b9-4d5a-866b-fc8885c4690c",
   "metadata": {},
   "outputs": [
    {
     "name": "stderr",
     "output_type": "stream",
     "text": [
      "100%|██████████| 341/341 [00:02<00:00, 144.20it/s]\n"
     ]
    }
   ],
   "source": [
    "# responses = requester.get_responses_from_database()\n",
    "# requester.save_all_responses_to_files(responses)"
   ]
  },
  {
   "cell_type": "code",
   "execution_count": 71,
   "id": "c9cfc167-15ce-4a50-86ae-36012a1718a5",
   "metadata": {},
   "outputs": [],
   "source": [
    "responses = requester.get_responses_from_database()\n",
    "# requester.save_all_responses_to_files(responses)"
   ]
  },
  {
   "cell_type": "code",
   "execution_count": 74,
   "id": "39b383ed-da16-4956-afeb-981457f16ee9",
   "metadata": {},
   "outputs": [],
   "source": [
    "# responses.keys()"
   ]
  },
  {
   "cell_type": "code",
   "execution_count": 82,
   "id": "66ed29a8-4608-42f2-bc50-21ee26e4cba6",
   "metadata": {},
   "outputs": [],
   "source": [
    "# for hit_id in responses.keys():\n",
    "#     t = responses[hit_id]\n",
    "#     for h in t:\n",
    "#         print(h[\"GLOBAL_CONFIG_NAME\"])\n",
    "# #     break"
   ]
  },
  {
   "cell_type": "code",
   "execution_count": 59,
   "id": "05a4caa8-2e45-46ef-9d15-8744b171cf5c",
   "metadata": {},
   "outputs": [
    {
     "data": {
      "text/plain": [
       "474"
      ]
     },
     "execution_count": 59,
     "metadata": {},
     "output_type": "execute_result"
    }
   ],
   "source": [
    "len(responses)"
   ]
  },
  {
   "cell_type": "code",
   "execution_count": 334,
   "id": "91dc1ba9-61fd-4caa-a5c7-06292b3d9f01",
   "metadata": {},
   "outputs": [],
   "source": [
    "# responses[\"3P888QFVX3OPO3JIBC80270Z6IVOQ1\"][0][\"GLOBAL_CONFIG\"][\"QUERY_EXAMPLES\"]"
   ]
  },
  {
   "cell_type": "code",
   "execution_count": 335,
   "id": "bcec4ac3-ae9d-49e1-8cfb-76668a3afed6",
   "metadata": {},
   "outputs": [],
   "source": [
    "# responses[\"3P888QFVX3OPO3JIBC80270Z6IVOQ1\"][0][\"QUERY_EXAMPLES_RESPONSES\"]"
   ]
  },
  {
   "cell_type": "code",
   "execution_count": null,
   "id": "71f4199c-24d2-4e78-8dc9-8e1b055eae55",
   "metadata": {},
   "outputs": [],
   "source": [
    "response[\"QUERY_EXAMPLES_RESPONSES\"] # the answers\n",
    "response[\"GLOBAL_CONFIG\"][\"QUERY_EXAMPLES\"] # the questions"
   ]
  },
  {
   "cell_type": "code",
   "execution_count": 227,
   "id": "741120bb-5093-4401-b248-28ecbce0004b",
   "metadata": {},
   "outputs": [],
   "source": [
    "# we need some time estimates for each of the tasks...\n"
   ]
  },
  {
   "cell_type": "code",
   "execution_count": 68,
   "id": "16e8a256-e6d8-4ac9-9f2d-b2dd2bbb9242",
   "metadata": {},
   "outputs": [
    {
     "name": "stderr",
     "output_type": "stream",
     "text": [
      "100%|██████████| 474/474 [00:00<00:00, 163535.42it/s]"
     ]
    },
    {
     "name": "stdout",
     "output_type": "stream",
     "text": [
      "310\n"
     ]
    },
    {
     "name": "stderr",
     "output_type": "stream",
     "text": [
      "\n"
     ]
    }
   ],
   "source": [
    "times = []\n",
    "for hit_id in tqdm(responses.keys()):\n",
    "    d = responses[hit_id]\n",
    "    for hit in d:\n",
    "#         if \"Task3\" in hit[\"GLOBAL_CONFIG_NAME\"]:\n",
    "#             times.append(hit[\"GLOBAL_REAL_TEST_TIME\"])\n",
    "        times.append(hit[\"GLOBAL_REAL_TEST_TIME\"])\n",
    "times\n",
    "print(np.mean(times).astype(\"int\"))"
   ]
  },
  {
   "cell_type": "code",
   "execution_count": 67,
   "id": "f3fe6b9b-4dc0-49a6-b0d9-fd2311c5a442",
   "metadata": {},
   "outputs": [
    {
     "data": {
      "text/plain": [
       "5.166666666666667"
      ]
     },
     "execution_count": 67,
     "metadata": {},
     "output_type": "execute_result"
    }
   ],
   "source": [
    "310 / 60"
   ]
  },
  {
   "cell_type": "code",
   "execution_count": null,
   "id": "a32eec4d-ec2a-423c-9090-ea5f60c63c31",
   "metadata": {},
   "outputs": [],
   "source": []
  },
  {
   "cell_type": "code",
   "execution_count": 130,
   "id": "611d82ec-8748-4338-bfd7-9faf8ea62580",
   "metadata": {},
   "outputs": [],
   "source": [
    "# responses[\"3E22YV8GG10M66IRAKTYNDAKBAHPN5\"][0][\"GLOBAL_REAL_TEST_TIME\"]"
   ]
  },
  {
   "cell_type": "code",
   "execution_count": 108,
   "id": "9b06b902-3fd9-4348-9654-6cd967e6fe24",
   "metadata": {},
   "outputs": [],
   "source": [
    "# for hit_id in hit_ids:\n",
    "#     assignments_list = requester.client.list_assignments_for_hit(\n",
    "#                     HITId=hit_id,\n",
    "#                     MaxResults=100\n",
    "#                 )\n",
    "#     print(assignments_list)\n",
    "#     print()"
   ]
  },
  {
   "cell_type": "code",
   "execution_count": 313,
   "id": "a10c37a9-e3ef-4ef5-9da0-69ce8215b82c",
   "metadata": {},
   "outputs": [],
   "source": [
    "# for hit_id in hit_ids:\n",
    "#     print(requester.client.get_hit(HITId=hit_id))"
   ]
  },
  {
   "cell_type": "code",
   "execution_count": 86,
   "id": "49e78b1d-5f10-4b15-803a-95ee46691df0",
   "metadata": {},
   "outputs": [],
   "source": [
    "# requester.get_mean_time_from_resonses(responses)"
   ]
  },
  {
   "cell_type": "code",
   "execution_count": 244,
   "id": "49541da7-417d-4663-90be-cd7799841b77",
   "metadata": {},
   "outputs": [],
   "source": [
    "# stop hits\n",
    "import datetime\n",
    "for hit_id in hit_ids:\n",
    "#     print('HITId:', hit_id)\n",
    "    # Get HIT status\n",
    "    status = requester.client.get_hit(HITId=hit_id)['HIT']['HITStatus']\n",
    "    print('HITStatus:', status)\n",
    "    # If HIT is active then set it to expire immediately\n",
    "    if status=='Assignable':\n",
    "        response = requester.client.update_expiration_for_hit(\n",
    "            HITId=hit_id,\n",
    "            ExpireAt=datetime.datetime(2015, 1, 1)\n",
    "        )\n",
    "        print(hit_id)"
   ]
  },
  {
   "cell_type": "code",
   "execution_count": null,
   "id": "79c2fbf5-1e1d-4430-9753-bac5bb2d4679",
   "metadata": {},
   "outputs": [],
   "source": []
  }
 ],
 "metadata": {
  "interpreter": {
   "hash": "222f01b76026723deb90f6521b6c50a7801729930bc95e5d89f12540abde614b"
  },
  "kernelspec": {
   "display_name": "Python 3",
   "language": "python",
   "name": "python3"
  },
  "language_info": {
   "codemirror_mode": {
    "name": "ipython",
    "version": 3
   },
   "file_extension": ".py",
   "mimetype": "text/x-python",
   "name": "python",
   "nbconvert_exporter": "python",
   "pygments_lexer": "ipython3",
   "version": "3.6.13"
  }
 },
 "nbformat": 4,
 "nbformat_minor": 5
}
