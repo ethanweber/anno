{
 "cells": [
  {
   "cell_type": "code",
   "execution_count": 19,
   "id": "b44377de-8276-483d-8264-99d3f19e4b1b",
   "metadata": {},
   "outputs": [
    {
     "name": "stdout",
     "output_type": "stream",
     "text": [
      "The autoreload extension is already loaded. To reload it, use:\n",
      "  %reload_ext autoreload\n"
     ]
    }
   ],
   "source": [
    "from imports import *"
   ]
  },
  {
   "cell_type": "code",
   "execution_count": 20,
   "id": "b89b81e2-fb9c-4e9d-9c99-7317aa68b992",
   "metadata": {},
   "outputs": [],
   "source": [
    "from hit_makers.biasgan_hit_maker import BiasganHitMakerRace\n",
    "from hit_makers.biasgan_hit_maker import task_to_class"
   ]
  },
  {
   "cell_type": "code",
   "execution_count": 35,
   "id": "6d3cc36e-c061-42f6-a57a-8f35d5e42fa7",
   "metadata": {},
   "outputs": [
    {
     "name": "stdout",
     "output_type": "stream",
     "text": [
      "biasgan/mturk_data/Task1_Race_Classification\n"
     ]
    }
   ],
   "source": [
    "directory = \"biasgan/mturk_data\"\n",
    "task1 = \"Task1_Race_Classification\"\n",
    "task2 = \"Task2_Real_Fake_Classification\"\n",
    "task3 = \"Task3_Quality_Ranking\"\n",
    "\n",
    "task = task1\n",
    "# NOTE(ethan): task 3 data folder seems incorrect right now\n",
    "maker = task_to_class[task]()\n",
    "\n",
    "task_folder = goat.pjoin(directory, task)\n",
    "print(task_folder)\n",
    "\n",
    "# from hit_makers.biasgan_hit_maker import get_processed_data_from_task_folder\n",
    "pdata = maker.get_processed_data_from_media_folder(task_folder)\n",
    "# pprint.pprint(pdata)"
   ]
  },
  {
   "cell_type": "code",
   "execution_count": 36,
   "id": "cb03ddb2-c0e6-41c2-9e57-e701909d1692",
   "metadata": {},
   "outputs": [],
   "source": [
    "# hit"
   ]
  },
  {
   "cell_type": "code",
   "execution_count": 37,
   "id": "a82b773a-e707-4532-9268-f831835cd348",
   "metadata": {},
   "outputs": [
    {
     "name": "stdout",
     "output_type": "stream",
     "text": [
      "Task1_Race_Classification-black50_white50-000000\n",
      "Task1_Race_Classification-black50_white50-000001\n",
      "Task1_Race_Classification-black50_white50-000002\n",
      "Task1_Race_Classification-black50_white50-000003\n",
      "Task1_Race_Classification-black50_white50-000004\n",
      "Task1_Race_Classification-black50_white50-000005\n",
      "Task1_Race_Classification-black50_white50-000006\n",
      "Task1_Race_Classification-black50_white50-000007\n",
      "Task1_Race_Classification-black50_white50-000008\n",
      "Task1_Race_Classification-black50_white50-000009\n",
      "Task1_Race_Classification-fface_val_data-000000\n",
      "Task1_Race_Classification-fface_val_data-000001\n",
      "Task1_Race_Classification-fface_val_data-000002\n",
      "Task1_Race_Classification-fface_val_data-000003\n",
      "Task1_Race_Classification-fface_val_data-000004\n",
      "Task1_Race_Classification-fface_val_data-000005\n",
      "Task1_Race_Classification-fface_val_data-000006\n",
      "Task1_Race_Classification-fface_val_data-000007\n",
      "Task1_Race_Classification-fface_val_data-000008\n",
      "Task1_Race_Classification-fface_val_data-000009\n",
      "Task1_Race_Classification-black80_white20-000000\n",
      "Task1_Race_Classification-black80_white20-000001\n",
      "Task1_Race_Classification-black80_white20-000002\n",
      "Task1_Race_Classification-black80_white20-000003\n",
      "Task1_Race_Classification-black80_white20-000004\n",
      "Task1_Race_Classification-black80_white20-000005\n",
      "Task1_Race_Classification-black80_white20-000006\n",
      "Task1_Race_Classification-black80_white20-000007\n",
      "Task1_Race_Classification-black80_white20-000008\n",
      "Task1_Race_Classification-black80_white20-000009\n",
      "Task1_Race_Classification-black20_white80-000000\n",
      "Task1_Race_Classification-black20_white80-000001\n",
      "Task1_Race_Classification-black20_white80-000002\n",
      "Task1_Race_Classification-black20_white80-000003\n",
      "Task1_Race_Classification-black20_white80-000004\n",
      "Task1_Race_Classification-black20_white80-000005\n",
      "Task1_Race_Classification-black20_white80-000006\n",
      "Task1_Race_Classification-black20_white80-000007\n",
      "Task1_Race_Classification-black20_white80-000008\n",
      "Task1_Race_Classification-black20_white80-000009\n"
     ]
    }
   ],
   "source": [
    "# now, break the save a bunch of hits (e.g., 40)...\n",
    "# 100 images per HIT\n",
    "# chunk with goat\n",
    "query_folder_to_query_examples = pdata[\"query_folder_to_query_examples\"]\n",
    "for query_folder in query_folder_to_query_examples:\n",
    "    query_examples = query_folder_to_query_examples[query_folder]\n",
    "    random.shuffle(query_examples)\n",
    "    query_examples_chunks = goat.utils.get_chunks(query_examples, size_of_chunk=100)\n",
    "    for hit_idx, qes in enumerate(query_examples_chunks):\n",
    "        examples = pdata[\"examples\"]\n",
    "        gt_query_examples = random.sample(pdata[\"gt_query_examples\"], k=10)\n",
    "        hit = maker.get_hit(task=task, \n",
    "                            task_question=pdata[\"task_question\"], \n",
    "                            examples=examples, \n",
    "                            gt_query_examples=gt_query_examples, \n",
    "                            query_examples=qes)\n",
    "        hit_name = \"{}-{}-{:06d}\".format(task, query_folder, hit_idx)\n",
    "        print(hit_name)\n",
    "        maker.save(hit_name, hit)"
   ]
  },
  {
   "cell_type": "code",
   "execution_count": null,
   "id": "f9e329eb-63a2-4021-84fb-1e4ec5bc7268",
   "metadata": {},
   "outputs": [],
   "source": []
  },
  {
   "cell_type": "code",
   "execution_count": null,
   "id": "64ca31a6-4f52-4cd1-9b2f-8b4660db2fb0",
   "metadata": {},
   "outputs": [],
   "source": []
  },
  {
   "cell_type": "code",
   "execution_count": null,
   "id": "720575c4-7275-4969-a4c8-417293dd75f0",
   "metadata": {},
   "outputs": [],
   "source": []
  },
  {
   "cell_type": "code",
   "execution_count": 54,
   "id": "74080414-0156-445e-bc2b-eb392b8e284c",
   "metadata": {},
   "outputs": [],
   "source": [
    "# examples = [example] * 10\n",
    "# hit = maker.get_hit(examples, examples, examples)\n",
    "# pprint.pprint(hit)\n",
    "# hit_name = \"hit_example\"\n",
    "# maker.save(hit_name, hit)"
   ]
  },
  {
   "cell_type": "code",
   "execution_count": null,
   "id": "8459d3f4-a94c-427e-9266-18ea1d6b8a0e",
   "metadata": {},
   "outputs": [],
   "source": []
  },
  {
   "cell_type": "code",
   "execution_count": 3,
   "id": "5b65c476-acc5-431c-a212-48783296b752",
   "metadata": {},
   "outputs": [],
   "source": [
    "IMAGE_FOLDER = \"https://friends.ethanweber.me/static/data/media/TBBT-big_living_room-images\"\n",
    "MOVIE_FOLDER = \"https://friends.ethanweber.me/static/data/media/TBBT-big_living_room-movies\""
   ]
  },
  {
   "cell_type": "code",
   "execution_count": null,
   "id": "027720d8-dcef-40ce-9153-c9d9ff5078b4",
   "metadata": {},
   "outputs": [],
   "source": []
  },
  {
   "cell_type": "code",
   "execution_count": 45,
   "id": "06f39afb-e688-4cbd-8c8d-08828fb69e19",
   "metadata": {},
   "outputs": [],
   "source": [
    "from requester import Requester"
   ]
  },
  {
   "cell_type": "code",
   "execution_count": 338,
   "id": "4d5e5a0b-c8d5-4785-b5ff-e85d4316845a",
   "metadata": {},
   "outputs": [
    {
     "name": "stdout",
     "output_type": "stream",
     "text": [
      "3.70\n"
     ]
    }
   ],
   "source": [
    "use_sandbox=False\n",
    "DATABASE_FILENAME = \"/shared/ethanweber/friends/mturk/mturk_database.pkl\"\n",
    "CREDS_FILENAME = \"/shared/ethanweber/friends/mturk/mturk_creds.json\"\n",
    "\n",
    "requester = Requester(use_sandbox=use_sandbox,\n",
    "                      database_filename=DATABASE_FILENAME,\n",
    "                      creds_filename=CREDS_FILENAME)\n",
    "requester.show_account_balance()"
   ]
  },
  {
   "cell_type": "code",
   "execution_count": 301,
   "id": "b99cbab0-b5a9-421a-868a-9f0008c51a01",
   "metadata": {},
   "outputs": [],
   "source": [
    "lifetime_hours = 1\n",
    "per_hit_minutes = 15\n",
    "cost_per_hit = '0.5'\n",
    "days_until_autoapprove = 2\n",
    "estimated_time_in_minutes = 5\n",
    "task_attributes = {\n",
    "    # Number of assignments per task.\n",
    "    'MaxAssignments': 1,\n",
    "    # How long the task will be available on MTurk\n",
    "    'LifetimeInSeconds': 60 * 60 * lifetime_hours,\n",
    "    # How long Workers have to complete each item\n",
    "    'AssignmentDurationInSeconds': 60 * per_hit_minutes,\n",
    "    # The reward you will offer Workers for each response\n",
    "    'Reward': cost_per_hit,\n",
    "    'Title': 'Choosing people placed in sitcoms. (~{} min)'.format(estimated_time_in_minutes),\n",
    "    'Keywords': 'video, choice, person, computer vison, selection',\n",
    "    'Description': 'Choose which of the two videos has the better placed person.',\n",
    "    'AutoApprovalDelayInSeconds': days_until_autoapprove * (60*60*24)\n",
    "}\n",
    "requester.set_task_attributes(task_attributes)"
   ]
  },
  {
   "cell_type": "code",
   "execution_count": 302,
   "id": "637fda2d-e3c2-4ba7-a31b-75f6f745ba7b",
   "metadata": {},
   "outputs": [],
   "source": [
    "external_urls = []\n",
    "for filename in sorted(os.listdir(\"static/data/hits/\")):\n",
    "    external_url = \"https://friends.ethanweber.me/mturk/\" + filename.replace(\".json\", \"\")\n",
    "    external_urls.append(external_url)"
   ]
  },
  {
   "cell_type": "code",
   "execution_count": 303,
   "id": "3fcbafdc-e4f6-4673-b764-a37523a089a2",
   "metadata": {},
   "outputs": [
    {
     "data": {
      "text/plain": [
       "['https://friends.ethanweber.me/mturk/TBBT-big_living_room-000000',\n",
       " 'https://friends.ethanweber.me/mturk/TBBT-big_living_room-000001',\n",
       " 'https://friends.ethanweber.me/mturk/TBBT-big_living_room-000002',\n",
       " 'https://friends.ethanweber.me/mturk/TBBT-big_living_room-000003',\n",
       " 'https://friends.ethanweber.me/mturk/TBBT-big_living_room-000004',\n",
       " 'https://friends.ethanweber.me/mturk/TBBT-big_living_room-000005',\n",
       " 'https://friends.ethanweber.me/mturk/TBBT-big_living_room-000006',\n",
       " 'https://friends.ethanweber.me/mturk/TBBT-big_living_room-000007',\n",
       " 'https://friends.ethanweber.me/mturk/TBBT-big_living_room-000008',\n",
       " 'https://friends.ethanweber.me/mturk/TBBT-big_living_room-000009',\n",
       " 'https://friends.ethanweber.me/mturk/TBBT-big_living_room-000010',\n",
       " 'https://friends.ethanweber.me/mturk/TBBT-big_living_room-000011',\n",
       " 'https://friends.ethanweber.me/mturk/TBBT-big_living_room-000012',\n",
       " 'https://friends.ethanweber.me/mturk/TBBT-big_living_room-000013',\n",
       " 'https://friends.ethanweber.me/mturk/TBBT-big_living_room-000014']"
      ]
     },
     "execution_count": 303,
     "metadata": {},
     "output_type": "execute_result"
    }
   ],
   "source": [
    "external_urls"
   ]
  },
  {
   "cell_type": "code",
   "execution_count": 339,
   "id": "0376af17-f185-4914-8aa6-c00e5f4f9000",
   "metadata": {},
   "outputs": [
    {
     "data": {
      "text/plain": [
       "[{'QualificationTypeId': '2F1QJWKUDD8XADTFD2Q0G6UTO95ALH',\n",
       "  'Comparator': 'Exists'}]"
      ]
     },
     "execution_count": 339,
     "metadata": {},
     "output_type": "execute_result"
    }
   ],
   "source": [
    "requester.get_worker_requirements()"
   ]
  },
  {
   "cell_type": "code",
   "execution_count": 304,
   "id": "f24a8d42-46b3-4647-aefb-bc766337a664",
   "metadata": {
    "tags": []
   },
   "outputs": [
    {
     "name": "stderr",
     "output_type": "stream",
     "text": [
      "100%|██████████| 5/5 [00:02<00:00,  2.10it/s]\n"
     ]
    }
   ],
   "source": [
    "hit_ids = requester.submit_hits_from_external_urls(external_urls[10:])"
   ]
  },
  {
   "cell_type": "code",
   "execution_count": 305,
   "id": "fe81a36f-889e-4afe-96ea-7dd38a60701e",
   "metadata": {},
   "outputs": [],
   "source": [
    "hit_ids = [v[\"hit_id\"] for v in requester.database[\"production\"].values()]"
   ]
  },
  {
   "cell_type": "code",
   "execution_count": 306,
   "id": "a2f743df-bf23-4842-afce-4c37f43db9d6",
   "metadata": {},
   "outputs": [],
   "source": [
    "# requester.database"
   ]
  },
  {
   "cell_type": "code",
   "execution_count": 308,
   "id": "539253c7-e886-4bf9-915f-13d43ca892bd",
   "metadata": {},
   "outputs": [
    {
     "data": {
      "text/plain": [
       "['3D06DR5225D91KRP90W1K3WP432AMC',\n",
       " '36MUZ9VAE6W9N32OCCZKXWZMG48DES',\n",
       " '31JUPBOORNYBCEGPCQB8OZB5EACL8H',\n",
       " '3TCFMTM8HEIN0SAW3ZKOUTPOU4F12O',\n",
       " '3N5YJ55YXGXFJ2CPL1B1XILP9TCANC',\n",
       " '3UL5XDRDNCDXAPD4K3V17AF8SKC58D',\n",
       " '3SX4X51T803X1NC1MGBEC7LUZ3HAOR',\n",
       " '3T6SSHJUZF42BJKW09QM98DR02NII8',\n",
       " '32TZXEA1OLEX36PJ7D3CN8MMEIB14K',\n",
       " '3NBFJK3IOHCYBEP48G3O8TWXXYVOGI',\n",
       " '32CAVSKPCEJWK4JYMJUU0CKGDV0U11',\n",
       " '3R6RZGK0XF6TNPJ13YB8ALX9YNIVYP',\n",
       " '3DQYSJDTYL5NL9753C0WR32EWMLEXW',\n",
       " '36FFXPMST9ICBAKFSML6TT8YCY8OHH']"
      ]
     },
     "execution_count": 308,
     "metadata": {},
     "output_type": "execute_result"
    }
   ],
   "source": [
    "hit_ids"
   ]
  },
  {
   "cell_type": "code",
   "execution_count": 309,
   "id": "78d04225-a7ea-44c7-a373-4ccc8e88ce5f",
   "metadata": {},
   "outputs": [
    {
     "data": {
      "text/plain": [
       "['https://friends.ethanweber.me/mturk/TBBT-big_living_room-000000',\n",
       " 'https://friends.ethanweber.me/mturk/TBBT-big_living_room-000001',\n",
       " 'https://friends.ethanweber.me/mturk/TBBT-big_living_room-000002',\n",
       " 'https://friends.ethanweber.me/mturk/TBBT-big_living_room-000003',\n",
       " 'https://friends.ethanweber.me/mturk/TBBT-big_living_room-000004',\n",
       " 'https://friends.ethanweber.me/mturk/TBBT-big_living_room-000005',\n",
       " 'https://friends.ethanweber.me/mturk/TBBT-big_living_room-000006',\n",
       " 'https://friends.ethanweber.me/mturk/TBBT-big_living_room-000007',\n",
       " 'https://friends.ethanweber.me/mturk/TBBT-big_living_room-000008',\n",
       " 'https://friends.ethanweber.me/mturk/TBBT-big_living_room-000010',\n",
       " 'https://friends.ethanweber.me/mturk/TBBT-big_living_room-000011',\n",
       " 'https://friends.ethanweber.me/mturk/TBBT-big_living_room-000012',\n",
       " 'https://friends.ethanweber.me/mturk/TBBT-big_living_room-000013',\n",
       " 'https://friends.ethanweber.me/mturk/TBBT-big_living_room-000014']"
      ]
     },
     "execution_count": 309,
     "metadata": {},
     "output_type": "execute_result"
    }
   ],
   "source": [
    "sorted(requester.database[\"production\"].keys())"
   ]
  },
  {
   "cell_type": "code",
   "execution_count": 310,
   "id": "41071121-ddcd-4930-872f-435009b4f1b5",
   "metadata": {},
   "outputs": [
    {
     "name": "stdout",
     "output_type": "stream",
     "text": [
      "https://www.mturk.com/mturk/preview?groupId=3GSIANI2QT7WALZXFJLBCOQG7OUPDG\n",
      "https://www.mturk.com/mturk/preview?groupId=3GSIANI2QT7WALZXFJLBCOQG7OUPDG\n",
      "https://www.mturk.com/mturk/preview?groupId=3GSIANI2QT7WALZXFJLBCOQG7OUPDG\n",
      "https://www.mturk.com/mturk/preview?groupId=3GSIANI2QT7WALZXFJLBCOQG7OUPDG\n",
      "https://www.mturk.com/mturk/preview?groupId=3GSIANI2QT7WALZXFJLBCOQG7OUPDG\n",
      "https://www.mturk.com/mturk/preview?groupId=3GSIANI2QT7WALZXFJLBCOQG7OUPDG\n",
      "https://www.mturk.com/mturk/preview?groupId=3GSIANI2QT7WALZXFJLBCOQG7OUPDG\n",
      "https://www.mturk.com/mturk/preview?groupId=3GSIANI2QT7WALZXFJLBCOQG7OUPDG\n",
      "https://www.mturk.com/mturk/preview?groupId=3GSIANI2QT7WALZXFJLBCOQG7OUPDG\n",
      "https://www.mturk.com/mturk/preview?groupId=3GSIANI2QT7WALZXFJLBCOQG7OUPDG\n",
      "https://www.mturk.com/mturk/preview?groupId=3GSIANI2QT7WALZXFJLBCOQG7OUPDG\n",
      "https://www.mturk.com/mturk/preview?groupId=3GSIANI2QT7WALZXFJLBCOQG7OUPDG\n",
      "https://www.mturk.com/mturk/preview?groupId=3GSIANI2QT7WALZXFJLBCOQG7OUPDG\n",
      "https://www.mturk.com/mturk/preview?groupId=3GSIANI2QT7WALZXFJLBCOQG7OUPDG\n"
     ]
    }
   ],
   "source": [
    "for hit_id in hit_ids:\n",
    "    print(requester.get_url_to_view_hit(hit_id))"
   ]
  },
  {
   "cell_type": "code",
   "execution_count": 351,
   "id": "0428f351-2712-4c98-9cc2-3e5e22e8d958",
   "metadata": {},
   "outputs": [
    {
     "name": "stderr",
     "output_type": "stream",
     "text": [
      "100%|██████████| 14/14 [00:01<00:00,  8.55it/s]\n"
     ]
    }
   ],
   "source": [
    "requester.update_database_with_responses()\n"
   ]
  },
  {
   "cell_type": "code",
   "execution_count": 342,
   "id": "101dea9b-4708-489e-a8ab-d6f438b63e37",
   "metadata": {},
   "outputs": [],
   "source": [
    "# len(hit_ids)"
   ]
  },
  {
   "cell_type": "code",
   "execution_count": 343,
   "id": "9b06b902-3fd9-4348-9654-6cd967e6fe24",
   "metadata": {},
   "outputs": [
    {
     "name": "stdout",
     "output_type": "stream",
     "text": [
      "{'NextToken': 'p2:6JI7ThZhEeOgRgssOuKGYUJIzbaMkkhQZVCRVk7mvBBHios+ONCQuAet10ih', 'NumResults': 1, 'Assignments': [{'AssignmentId': '31IBVUNM9TTPAI0ZOBOLAKLH7BTVFM', 'WorkerId': 'A3U21PUMQ6NGT2', 'HITId': '3D06DR5225D91KRP90W1K3WP432AMC', 'AssignmentStatus': 'Submitted', 'AutoApprovalTime': datetime.datetime(2021, 11, 12, 11, 53, 3, tzinfo=tzlocal()), 'AcceptTime': datetime.datetime(2021, 11, 10, 11, 42, 46, tzinfo=tzlocal()), 'SubmitTime': datetime.datetime(2021, 11, 10, 11, 53, 3, tzinfo=tzlocal()), 'Answer': '<?xml version=\"1.0\" encoding=\"ASCII\"?><QuestionFormAnswers xmlns=\"http://mechanicalturk.amazonaws.com/AWSMechanicalTurkDataSchemas/2005-10-01/QuestionFormAnswers.xsd\"><Answer><QuestionIdentifier>answer</QuestionIdentifier><FreeText>{\"GLOBAL_ALL_IDS\":[\"ALL_EXAMPLES:9\",\"ALL_EXAMPLES:4\",\"ALL_EXAMPLES:3\",\"ALL_EXAMPLES:6\",\"ALL_EXAMPLES:8\",\"ALL_EXAMPLES:5\",\"ALL_EXAMPLES:12\",\"ALL_EXAMPLES:7\",\"ALL_EXAMPLES:10\",\"ALL_EXAMPLES:2\",\"ALL_EXAMPLES:1\",\"ALL_EXAMPLES:13\",\"ALL_EXAMPLES:11\",\"ALL_EXAMPLES:0\"],\"GLOBAL_ALL_INDICES\":[13,10,9,2,1,5,3,7,4,0,8,12,6,11],\"GLOBAL_CONFIG_NAME\":\"TBBT-big_living_room-000000\",\"GLOBAL_ALL_RESPONSES\":[0,1,1,1,0,0,0,0,0,0,0,0,0,1],\"GT_HIDDEN_EXAMPLES_RESPONSES\":[1,0],\"GT_HIDDEN_EXAMPLES_RESPONSES_REVERSED\":[0,1],\"QUERY_EXAMPLES_RESPONSES\":[1,0,1,0,0,0,0,0,0,0],\"GLOBAL_REAL_TEST_TIME\":406.7890000343323}</FreeText></Answer></QuestionFormAnswers>'}], 'ResponseMetadata': {'RequestId': '59fa212e-6997-4fd2-989f-70eb6f612a38', 'HTTPStatusCode': 200, 'HTTPHeaders': {'x-amzn-requestid': '59fa212e-6997-4fd2-989f-70eb6f612a38', 'content-type': 'application/x-amz-json-1.1', 'content-length': '1280', 'date': 'Wed, 10 Nov 2021 21:25:16 GMT'}, 'RetryAttempts': 0}}\n",
      "\n",
      "{'NumResults': 0, 'Assignments': [], 'ResponseMetadata': {'RequestId': '849ba357-8e43-40ee-8c90-74b5dea9c924', 'HTTPStatusCode': 200, 'HTTPHeaders': {'x-amzn-requestid': '849ba357-8e43-40ee-8c90-74b5dea9c924', 'content-type': 'application/x-amz-json-1.1', 'content-length': '33', 'date': 'Wed, 10 Nov 2021 21:25:16 GMT'}, 'RetryAttempts': 0}}\n",
      "\n",
      "{'NumResults': 0, 'Assignments': [], 'ResponseMetadata': {'RequestId': '220ea941-2ea7-493e-a2c1-db2eb699b94e', 'HTTPStatusCode': 200, 'HTTPHeaders': {'x-amzn-requestid': '220ea941-2ea7-493e-a2c1-db2eb699b94e', 'content-type': 'application/x-amz-json-1.1', 'content-length': '33', 'date': 'Wed, 10 Nov 2021 21:25:16 GMT'}, 'RetryAttempts': 0}}\n",
      "\n",
      "{'NumResults': 0, 'Assignments': [], 'ResponseMetadata': {'RequestId': '3ce86f5d-8321-41ab-a36a-ae7f6b4599dd', 'HTTPStatusCode': 200, 'HTTPHeaders': {'x-amzn-requestid': '3ce86f5d-8321-41ab-a36a-ae7f6b4599dd', 'content-type': 'application/x-amz-json-1.1', 'content-length': '33', 'date': 'Wed, 10 Nov 2021 21:25:16 GMT'}, 'RetryAttempts': 0}}\n",
      "\n",
      "{'NumResults': 0, 'Assignments': [], 'ResponseMetadata': {'RequestId': 'e7ecde3a-e18e-4b0a-b5b1-3a8f7f1bbd74', 'HTTPStatusCode': 200, 'HTTPHeaders': {'x-amzn-requestid': 'e7ecde3a-e18e-4b0a-b5b1-3a8f7f1bbd74', 'content-type': 'application/x-amz-json-1.1', 'content-length': '33', 'date': 'Wed, 10 Nov 2021 21:25:16 GMT'}, 'RetryAttempts': 0}}\n",
      "\n",
      "{'NumResults': 0, 'Assignments': [], 'ResponseMetadata': {'RequestId': '3b327e9a-cc4e-4a23-8c09-cd1ee478f96b', 'HTTPStatusCode': 200, 'HTTPHeaders': {'x-amzn-requestid': '3b327e9a-cc4e-4a23-8c09-cd1ee478f96b', 'content-type': 'application/x-amz-json-1.1', 'content-length': '33', 'date': 'Wed, 10 Nov 2021 21:25:16 GMT'}, 'RetryAttempts': 0}}\n",
      "\n",
      "{'NumResults': 0, 'Assignments': [], 'ResponseMetadata': {'RequestId': '33bc40dd-3cc1-48dc-8c90-6adc73890585', 'HTTPStatusCode': 200, 'HTTPHeaders': {'x-amzn-requestid': '33bc40dd-3cc1-48dc-8c90-6adc73890585', 'content-type': 'application/x-amz-json-1.1', 'content-length': '33', 'date': 'Wed, 10 Nov 2021 21:25:16 GMT'}, 'RetryAttempts': 0}}\n",
      "\n",
      "{'NumResults': 0, 'Assignments': [], 'ResponseMetadata': {'RequestId': '530087c4-d9c4-4813-a985-ca863048ffc2', 'HTTPStatusCode': 200, 'HTTPHeaders': {'x-amzn-requestid': '530087c4-d9c4-4813-a985-ca863048ffc2', 'content-type': 'application/x-amz-json-1.1', 'content-length': '33', 'date': 'Wed, 10 Nov 2021 21:25:16 GMT'}, 'RetryAttempts': 0}}\n",
      "\n",
      "{'NumResults': 0, 'Assignments': [], 'ResponseMetadata': {'RequestId': '34c99daf-c64f-47b1-88e7-9ae45f957449', 'HTTPStatusCode': 200, 'HTTPHeaders': {'x-amzn-requestid': '34c99daf-c64f-47b1-88e7-9ae45f957449', 'content-type': 'application/x-amz-json-1.1', 'content-length': '33', 'date': 'Wed, 10 Nov 2021 21:25:16 GMT'}, 'RetryAttempts': 0}}\n",
      "\n",
      "{'NumResults': 0, 'Assignments': [], 'ResponseMetadata': {'RequestId': '974e0528-17ee-4a9b-97d3-1e4b992f240f', 'HTTPStatusCode': 200, 'HTTPHeaders': {'x-amzn-requestid': '974e0528-17ee-4a9b-97d3-1e4b992f240f', 'content-type': 'application/x-amz-json-1.1', 'content-length': '33', 'date': 'Wed, 10 Nov 2021 21:25:17 GMT'}, 'RetryAttempts': 0}}\n",
      "\n",
      "{'NextToken': 'p2:+kw3qsRpnlGj9ifEqjTckDkxw2xJzK8l8Z42qOWN/eXOZC2PI29T4Z/Bj3yn', 'NumResults': 1, 'Assignments': [{'AssignmentId': '3SNLUL3WO5HBXVLV5WHE9BOIQ0FLU1', 'WorkerId': 'A35ARURSRU6UAZ', 'HITId': '32CAVSKPCEJWK4JYMJUU0CKGDV0U11', 'AssignmentStatus': 'Submitted', 'AutoApprovalTime': datetime.datetime(2021, 11, 12, 12, 48, 54, tzinfo=tzlocal()), 'AcceptTime': datetime.datetime(2021, 11, 10, 12, 44, 3, tzinfo=tzlocal()), 'SubmitTime': datetime.datetime(2021, 11, 10, 12, 48, 54, tzinfo=tzlocal()), 'Answer': '<?xml version=\"1.0\" encoding=\"ASCII\"?><QuestionFormAnswers xmlns=\"http://mechanicalturk.amazonaws.com/AWSMechanicalTurkDataSchemas/2005-10-01/QuestionFormAnswers.xsd\"><Answer><QuestionIdentifier>answer</QuestionIdentifier><FreeText>{\"GLOBAL_ALL_IDS\":[\"ALL_EXAMPLES:11\",\"ALL_EXAMPLES:8\",\"ALL_EXAMPLES:2\",\"ALL_EXAMPLES:10\",\"ALL_EXAMPLES:13\",\"ALL_EXAMPLES:4\",\"ALL_EXAMPLES:0\",\"ALL_EXAMPLES:6\",\"ALL_EXAMPLES:7\",\"ALL_EXAMPLES:9\",\"ALL_EXAMPLES:12\",\"ALL_EXAMPLES:1\",\"ALL_EXAMPLES:5\",\"ALL_EXAMPLES:3\"],\"GLOBAL_ALL_INDICES\":[6,11,2,13,5,12,7,8,1,9,3,0,10,4],\"GLOBAL_CONFIG_NAME\":\"TBBT-big_living_room-000011\",\"GLOBAL_ALL_RESPONSES\":[0,0,0,0,1,1,1,1,1,0,0,0,1,1],\"GT_HIDDEN_EXAMPLES_RESPONSES\":[1,0],\"GT_HIDDEN_EXAMPLES_RESPONSES_REVERSED\":[0,1],\"QUERY_EXAMPLES_RESPONSES\":[1,1,1,1,0,0,0,0,0,1],\"GLOBAL_REAL_TEST_TIME\":208.81700015068054,\"GLOBAL_CONFIG\":{\"EXAMPLES\":[{\"choices\":[\"https://friends.ethanweber.me/static/data/media/TBBT-big_living_room-movies/005603-TBBT_S12E16_00017076-CS.mp4\",\"https://friends.ethanweber.me/static/data/media/TBBT-big_living_room-movies/005603-TBBT_S12E16_00017076-SF.mp4\"],\"description\":\"Person **0** is the correct choice because they are sitting on the couch and not inside of it.\",\"images_and_boxes\":[[\"https://friends.ethanweber.me/static/data/media/TBBT-big_living_room-images/TBBT_S12E16_00017076.jpg\",[587.2698499999999,241.01969999999994,652.6793000000002,838.9803,1920,1080]],[\"https://friends.ethanweber.me/static/data/media/TBBT-big_living_room-images/TBBT_S12E16_00017077.jpg\",null]]},{\"choices\":[\"https://friends.ethanweber.me/static/data/media/TBBT-big_living_room-movies/002769-TBBT_S12E07_00010349-SF.mp4\",\"https://friends.ethanweber.me/static/data/media/TBBT-big_living_room-movies/002769-TBBT_S12E07_00010349-CS.mp4\"],\"description\":\"Person **1** is correct. The location of the person in the video looks close to how it should based on the image.\",\"images_and_boxes\":[[\"https://friends.ethanweber.me/static/data/media/TBBT-big_living_room-images/TBBT_S12E07_00010349.jpg\",[1082.2835,433.8596499999999,255.72299999999996,519.1017000000002,1920,1080]],[\"https://friends.ethanweber.me/static/data/media/TBBT-big_living_room-images/TBBT_S12E07_00010350.jpg\",null]]},{\"choices\":[\"https://friends.ethanweber.me/static/data/media/TBBT-big_living_room-movies/005697-TBBT_S12E16_00025468-CS.mp4\",\"https://friends.ethanweber.me/static/data/media/TBBT-big_living_room-movies/005697-TBBT_S12E16_00025468-SF.mp4\"],\"description\":\"Person **0** is better even though there is some intersection with the couch. Look at where the knees are in the photos above to understand why it looks more correct.\",\"images_and_boxes\":[[\"https://friends.ethanweber.me/static/data/media/TBBT-big_living_room-images/TBBT_S12E16_00025468.jpg\",[571.3430999999999,214.38059999999996,650.7878000000002,843.5388,1920,1080]],[\"https://friends.ethanweber.me/static/data/media/TBBT-big_living_room-images/TBBT_S12E16_00025469.jpg\",null]]}],\"GT_HIDDEN_EXAMPLES\":[{\"choices\":[\"https://friends.ethanweber.me/static/data/media/TBBT-big_living_room-movies/002769-TBBT_S12E07_00010349-SF.mp4\",\"https://friends.ethanweber.me/static/data/media/TBBT-big_living_room-movies/002769-TBBT_S12E07_00010349-CS.mp4\"],\"description\":\"Person **1** is correct. The location of the person in the video looks close to how it should based on the image.\",\"images_and_boxes\":[[\"https://friends.ethanweber.me/static/data/media/TBBT-big_living_room-images/TBBT_S12E07_00010349.jpg\",[1082.2835,433.8596499999999,255.72299999999996,519.1017000000002,1920,1080]],[\"https://friends.ethanweber.me/static/data/media/TBBT-big_living_room-images/TBBT_S12E07_00010350.jpg\",null]]},{\"choices\":[\"https://friends.ethanweber.me/static/data/media/TBBT-big_living_room-movies/005603-TBBT_S12E16_00017076-CS.mp4\",\"https://friends.ethanweber.me/static/data/media/TBBT-big_living_room-movies/005603-TBBT_S12E16_00017076-SF.mp4\"],\"description\":\"Person **0** is the correct choice because they are sitting on the couch and not inside of it.\",\"images_and_boxes\":[[\"https://friends.ethanweber.me/static/data/media/TBBT-big_living_room-images/TBBT_S12E16_00017076.jpg\",[587.2698499999999,241.01969999999994,652.6793000000002,838.9803,1920,1080]],[\"https://friends.ethanweber.me/static/data/media/TBBT-big_living_room-images/TBBT_S12E16_00017077.jpg\",null]]}],\"QUERY_EXAMPLES\":[{\"choices\":[\"https://friends.ethanweber.me/static/data/media/TBBT-big_living_room-movies/001655-TBBT_S12E05_00014088-MS.mp4\",\"https://friends.ethanweber.me/static/data/media/TBBT-big_living_room-movies/001655-TBBT_S12E05_00014088-CS.mp4\"],\"images_and_boxes\":[[\"https://friends.ethanweber.me/static/data/media/TBBT-big_living_room-images/TBBT_S12E05_00014088.jpg\",[1483.8020000000001,416.0981,351.15599999999995,278.6238,1920,1080]],[\"https://friends.ethanweber.me/static/data/media/TBBT-big_living_room-images/TBBT_S12E05_00014087.jpg\",null]]},{\"choices\":[\"https://friends.ethanweber.me/static/data/media/TBBT-big_living_room-movies/000938-TBBT_S12E03_00006052-CS.mp4\",\"https://friends.ethanweber.me/static/data/media/TBBT-big_living_room-movies/000938-TBBT_S12E03_00006052-MS.mp4\"],\"images_and_boxes\":[[\"https://friends.ethanweber.me/static/data/media/TBBT-big_living_room-images/TBBT_S12E03_00006052.jpg\",[255.79365,250.39975000000004,637.4016999999999,620.2755,1920,1080]],[\"https://friends.ethanweber.me/static/data/media/TBBT-big_living_room-images/TBBT_S12E03_00006053.jpg\",null]]},{\"choices\":[\"https://friends.ethanweber.me/static/data/media/TBBT-big_living_room-movies/004270-TBBT_S12E13_00003560-MS.mp4\",\"https://friends.ethanweber.me/static/data/media/TBBT-big_living_room-movies/004270-TBBT_S12E13_00003560-CS.mp4\"],\"images_and_boxes\":[[\"https://friends.ethanweber.me/static/data/media/TBBT-big_living_room-images/TBBT_S12E13_00003560.jpg\",[804.4649999999999,242.43069999999994,895.0500000000002,837.5693000000001,1920,1080]],[\"https://friends.ethanweber.me/static/data/media/TBBT-big_living_room-images/TBBT_S12E13_00003559.jpg\",null]]},{\"choices\":[\"https://friends.ethanweber.me/static/data/media/TBBT-big_living_room-movies/003800-TBBT_S12E11_00000762-MS.mp4\",\"https://friends.ethanweber.me/static/data/media/TBBT-big_living_room-movies/003800-TBBT_S12E11_00000762-CS.mp4\"],\"images_and_boxes\":[[\"https://friends.ethanweber.me/static/data/media/TBBT-big_living_room-images/TBBT_S12E11_00000762.jpg\",[463.4499,135.65294999999992,364.51219999999995,826.3411000000001,1920,1080]],[\"https://friends.ethanweber.me/static/data/media/TBBT-big_living_room-images/TBBT_S12E11_00000763.jpg\",null]]},{\"choices\":[\"https://friends.ethanweber.me/static/data/media/TBBT-big_living_room-movies/006025-TBBT_S12E18_00001809-CS.mp4\",\"https://friends.ethanweber.me/static/data/media/TBBT-big_living_room-movies/006025-TBBT_S12E18_00001809-MS.mp4\"],\"images_and_boxes\":[[\"https://friends.ethanweber.me/static/data/media/TBBT-big_living_room-images/TBBT_S12E18_00001809.jpg\",[910.4723499999998,248.81140000000002,345.42430000000013,494.2911999999999,1920,1080]],[\"https://friends.ethanweber.me/static/data/media/TBBT-big_living_room-images/TBBT_S12E18_00001808.jpg\",null]]},{\"choices\":[\"https://friends.ethanweber.me/static/data/media/TBBT-big_living_room-movies/005591-TBBT_S12E16_00016585-CS.mp4\",\"https://friends.ethanweber.me/static/data/media/TBBT-big_living_room-movies/005591-TBBT_S12E16_00016585-MS.mp4\"],\"images_and_boxes\":[[\"https://friends.ethanweber.me/static/data/media/TBBT-big_living_room-images/TBBT_S12E16_00016585.jpg\",[1388.522,405.25379999999996,362.596,538.1324,1920,1080]],[\"https://friends.ethanweber.me/static/data/media/TBBT-big_living_room-images/TBBT_S12E16_00016584.jpg\",null]]},{\"choices\":[\"https://friends.ethanweber.me/static/data/media/TBBT-big_living_room-movies/007691-TBBT_S12E22_00000346-CS.mp4\",\"https://friends.ethanweber.me/static/data/media/TBBT-big_living_room-movies/007691-TBBT_S12E22_00000346-MS.mp4\"],\"images_and_boxes\":[[\"https://friends.ethanweber.me/static/data/media/TBBT-big_living_room-images/TBBT_S12E22_00000346.jpg\",[242.80220000000008,199.04115000000002,902.6835999999998,880.95885,1920,1080]],[\"https://friends.ethanweber.me/static/data/media/TBBT-big_living_room-images/TBBT_S12E22_00000345.jpg\",null]]},{\"choices\":[\"https://friends.ethanweber.me/static/data/media/TBBT-big_living_room-movies/003441-TBBT_S12E10_00000706-CS.mp4\",\"https://friends.ethanweber.me/static/data/media/TBBT-big_living_room-movies/003441-TBBT_S12E10_00000706-MS.mp4\"],\"images_and_boxes\":[[\"https://friends.ethanweber.me/static/data/media/TBBT-big_living_room-images/TBBT_S12E10_00000706.jpg\",[785.66535,96.69449999999995,765.2982999999999,983.3055,1920,1080]],[\"https://friends.ethanweber.me/static/data/media/TBBT-big_living_room-images/TBBT_S12E10_00000705.jpg\",null]]},{\"choices\":[\"https://friends.ethanweber.me/static/data/media/TBBT-big_living_room-movies/004326-TBBT_S12E13_00004270-MS.mp4\",\"https://friends.ethanweber.me/static/data/media/TBBT-big_living_room-movies/004326-TBBT_S12E13_00004270-CS.mp4\"],\"images_and_boxes\":[[\"https://friends.ethanweber.me/static/data/media/TBBT-big_living_room-images/TBBT_S12E13_00004270.jpg\",[1243.852,109.95924999999994,676.1479999999999,921.7585000000001,1920,1080]],[\"https://friends.ethanweber.me/static/data/media/TBBT-big_living_room-images/TBBT_S12E13_00004271.jpg\",null]]},{\"choices\":[\"https://friends.ethanweber.me/static/data/media/TBBT-big_living_room-movies/005739-TBBT_S12E17_00000169-MS.mp4\",\"https://friends.ethanweber.me/static/data/media/TBBT-big_living_room-movies/005739-TBBT_S12E17_00000169-CS.mp4\"],\"images_and_boxes\":[[\"https://friends.ethanweber.me/static/data/media/TBBT-big_living_room-images/TBBT_S12E17_00000169.jpg\",[308.20605000000006,121.4519499999999,641.2289000000001,958.5480500000001,1920,1080]],[\"https://friends.ethanweber.me/static/data/media/TBBT-big_living_room-images/TBBT_S12E17_00000170.jpg\",null]]}],\"TYPE\":\"pickn\"}}</FreeText></Answer></QuestionFormAnswers>'}], 'ResponseMetadata': {'RequestId': '10cf872d-2bd9-412d-92f2-fd73b192dcaa', 'HTTPStatusCode': 200, 'HTTPHeaders': {'x-amzn-requestid': '10cf872d-2bd9-412d-92f2-fd73b192dcaa', 'content-type': 'application/x-amz-json-1.1', 'content-length': '10515', 'date': 'Wed, 10 Nov 2021 21:25:17 GMT'}, 'RetryAttempts': 0}}\n",
      "\n",
      "{'NumResults': 0, 'Assignments': [], 'ResponseMetadata': {'RequestId': 'd07e5038-79e9-4582-8cc7-e7f42beeb38b', 'HTTPStatusCode': 200, 'HTTPHeaders': {'x-amzn-requestid': 'd07e5038-79e9-4582-8cc7-e7f42beeb38b', 'content-type': 'application/x-amz-json-1.1', 'content-length': '33', 'date': 'Wed, 10 Nov 2021 21:25:17 GMT'}, 'RetryAttempts': 0}}\n",
      "\n",
      "{'NumResults': 0, 'Assignments': [], 'ResponseMetadata': {'RequestId': '7697388e-7a47-4184-a2d8-a78454d64f82', 'HTTPStatusCode': 200, 'HTTPHeaders': {'x-amzn-requestid': '7697388e-7a47-4184-a2d8-a78454d64f82', 'content-type': 'application/x-amz-json-1.1', 'content-length': '33', 'date': 'Wed, 10 Nov 2021 21:25:17 GMT'}, 'RetryAttempts': 0}}\n",
      "\n",
      "{'NumResults': 0, 'Assignments': [], 'ResponseMetadata': {'RequestId': 'e935a465-f706-4882-8bb7-94d98947b180', 'HTTPStatusCode': 200, 'HTTPHeaders': {'x-amzn-requestid': 'e935a465-f706-4882-8bb7-94d98947b180', 'content-type': 'application/x-amz-json-1.1', 'content-length': '33', 'date': 'Wed, 10 Nov 2021 21:25:17 GMT'}, 'RetryAttempts': 0}}\n",
      "\n"
     ]
    }
   ],
   "source": [
    "for hit_id in hit_ids:\n",
    "    assignments_list = requester.client.list_assignments_for_hit(\n",
    "                    HITId=hit_id,\n",
    "                    MaxResults=1\n",
    "                )\n",
    "    print(assignments_list)\n",
    "    print()"
   ]
  },
  {
   "cell_type": "code",
   "execution_count": 313,
   "id": "a10c37a9-e3ef-4ef5-9da0-69ce8215b82c",
   "metadata": {},
   "outputs": [],
   "source": [
    "# for hit_id in hit_ids:\n",
    "#     print(requester.client.get_hit(HITId=hit_id))"
   ]
  },
  {
   "cell_type": "code",
   "execution_count": 346,
   "id": "2da18ee8-f18d-44fa-a037-7188cb364eaa",
   "metadata": {},
   "outputs": [
    {
     "data": {
      "text/plain": [
       "2"
      ]
     },
     "execution_count": 346,
     "metadata": {},
     "output_type": "execute_result"
    }
   ],
   "source": [
    "responses = requester.get_responses_from_database()\n",
    "len(responses)"
   ]
  },
  {
   "cell_type": "code",
   "execution_count": null,
   "id": "e1405aa3-894f-444f-862a-2241e1926a57",
   "metadata": {},
   "outputs": [],
   "source": []
  },
  {
   "cell_type": "code",
   "execution_count": 347,
   "id": "49e78b1d-5f10-4b15-803a-95ee46691df0",
   "metadata": {},
   "outputs": [
    {
     "data": {
      "text/plain": [
       "307.8030000925064"
      ]
     },
     "execution_count": 347,
     "metadata": {},
     "output_type": "execute_result"
    }
   ],
   "source": [
    "requester.get_mean_time_from_resonses(responses)"
   ]
  },
  {
   "cell_type": "code",
   "execution_count": 349,
   "id": "26ebe728-8c9f-4bd4-a4be-32c171a241ff",
   "metadata": {},
   "outputs": [],
   "source": [
    "# responses"
   ]
  },
  {
   "cell_type": "code",
   "execution_count": 350,
   "id": "a001ce3b-a689-4608-a6fb-285ced22582c",
   "metadata": {},
   "outputs": [
    {
     "name": "stderr",
     "output_type": "stream",
     "text": [
      "100%|██████████| 2/2 [00:00<00:00, 486.10it/s]\n"
     ]
    }
   ],
   "source": [
    "requester.save_all_responses_to_files(responses)"
   ]
  },
  {
   "cell_type": "code",
   "execution_count": 244,
   "id": "49541da7-417d-4663-90be-cd7799841b77",
   "metadata": {},
   "outputs": [],
   "source": [
    "# stop hits\n",
    "import datetime\n",
    "for hit_id in hit_ids:\n",
    "#     print('HITId:', hit_id)\n",
    "    # Get HIT status\n",
    "    status = requester.client.get_hit(HITId=hit_id)['HIT']['HITStatus']\n",
    "    print('HITStatus:', status)\n",
    "    # If HIT is active then set it to expire immediately\n",
    "    if status=='Assignable':\n",
    "        response = requester.client.update_expiration_for_hit(\n",
    "            HITId=hit_id,\n",
    "            ExpireAt=datetime.datetime(2015, 1, 1)\n",
    "        )\n",
    "        print(hit_id)"
   ]
  },
  {
   "cell_type": "code",
   "execution_count": 279,
   "id": "cff57484-8638-419a-b098-a074dcdff268",
   "metadata": {},
   "outputs": [],
   "source": [
    "# # stop hits\n",
    "# import datetime\n",
    "# for hit_id in hit_ids:\n",
    "#     status = requester.client.get_hit(HITId=hit_id)['HIT']['HITStatus']\n",
    "#     print('HITStatus:', status)\n",
    "#     response = requester.client.update_expiration_for_hit(\n",
    "#         HITId=hit_id,\n",
    "#         ExpireAt=datetime.datetime(year=2021, month=11, day=11)\n",
    "#     )\n",
    "#     print(hit_id)"
   ]
  },
  {
   "cell_type": "code",
   "execution_count": null,
   "id": "79c2fbf5-1e1d-4430-9753-bac5bb2d4679",
   "metadata": {},
   "outputs": [],
   "source": []
  }
 ],
 "metadata": {
  "interpreter": {
   "hash": "222f01b76026723deb90f6521b6c50a7801729930bc95e5d89f12540abde614b"
  },
  "kernelspec": {
   "display_name": "Python 3",
   "language": "python",
   "name": "python3"
  },
  "language_info": {
   "codemirror_mode": {
    "name": "ipython",
    "version": 3
   },
   "file_extension": ".py",
   "mimetype": "text/x-python",
   "name": "python",
   "nbconvert_exporter": "python",
   "pygments_lexer": "ipython3",
   "version": "3.6.13"
  }
 },
 "nbformat": 4,
 "nbformat_minor": 5
}
